{
  "nbformat": 4,
  "nbformat_minor": 0,
  "metadata": {
    "colab": {
      "name": "PyTorch_Introductory.ipynb",
      "provenance": []
    },
    "kernelspec": {
      "name": "python3",
      "display_name": "Python 3"
    },
    "accelerator": "GPU"
  },
  "cells": [
    {
      "cell_type": "code",
      "metadata": {
        "colab": {
          "resources": {
            "http://localhost:8080/nbextensions/google.colab/files.js": {
              "data": "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",
              "ok": true,
              "headers": [
                [
                  "content-type",
                  "application/javascript"
                ]
              ],
              "status": 200,
              "status_text": ""
            }
          },
          "base_uri": "https://localhost:8080/",
          "height": 73
        },
        "id": "4gEOWyNz1m_5",
        "outputId": "92189402-35d7-40b5-fa88-6f1ac44976d1"
      },
      "source": [
        "from google.colab import files\r\n",
        "uploaded = files.upload()"
      ],
      "execution_count": null,
      "outputs": [
        {
          "output_type": "display_data",
          "data": {
            "text/html": [
              "\n",
              "     <input type=\"file\" id=\"files-a7eb623f-42d7-472e-933b-38140bcedd6f\" name=\"files[]\" multiple disabled\n",
              "        style=\"border:none\" />\n",
              "     <output id=\"result-a7eb623f-42d7-472e-933b-38140bcedd6f\">\n",
              "      Upload widget is only available when the cell has been executed in the\n",
              "      current browser session. Please rerun this cell to enable.\n",
              "      </output>\n",
              "      <script src=\"/nbextensions/google.colab/files.js\"></script> "
            ],
            "text/plain": [
              "<IPython.core.display.HTML object>"
            ]
          },
          "metadata": {
            "tags": []
          }
        },
        {
          "output_type": "stream",
          "text": [
            "Saving hymenoptera_data.zip to hymenoptera_data.zip\n"
          ],
          "name": "stdout"
        }
      ]
    },
    {
      "cell_type": "code",
      "metadata": {
        "id": "AzwaCUIn524F"
      },
      "source": [
        "!unzip hymenoptera_data.zip"
      ],
      "execution_count": null,
      "outputs": []
    },
    {
      "cell_type": "code",
      "metadata": {
        "id": "r_e0IEg33DHS"
      },
      "source": [
        "# notebook imports\r\n",
        "\r\n",
        "from __future__ import print_function, division\r\n",
        "\r\n",
        "import numpy as np\r\n",
        "import matplotlib.pyplot as plt\r\n",
        "import time\r\n",
        "import os\r\n",
        "import copy\r\n",
        "\r\n",
        "plt.ion()"
      ],
      "execution_count": 5,
      "outputs": []
    },
    {
      "cell_type": "code",
      "metadata": {
        "id": "vEuPLdIN6oqI"
      },
      "source": [
        "# pytorch imputs\r\n",
        "\r\n",
        "import torch \r\n",
        "from torch import Tensor\r\n",
        "\r\n",
        "import torch.nn as nn\r\n",
        "import torch.optim as optim\r\n",
        "\r\n",
        "from torch.optim import lr_scheduler\r\n",
        "from torch.nn import Module, Sigmoid, Linear, ReLU, Softmax\r\n",
        "\r\n",
        "from torch.utils.data import Dataset, random_split, DataLoader\r\n",
        "from torch.optim import SGD\r\n",
        "from torch.nn.init import kaiming_uniform_, xavier_uniform_\r\n",
        "from torch.nn import CrossEntropyLoss, BCELoss\r\n",
        "\r\n",
        "import torchvision\r\n",
        "from torchvision import datasets,transforms,models\r\n",
        "\r\n",
        "plt.ion()"
      ],
      "execution_count": 6,
      "outputs": []
    },
    {
      "cell_type": "code",
      "metadata": {
        "id": "jj7uybig3DgB"
      },
      "source": [
        "# Data augmentation and normalization for training\r\n",
        "# Just normalization for validation\r\n",
        "\r\n",
        "data_transforms = {\r\n",
        "    'train': transforms.Compose([\r\n",
        "        transforms.RandomResizedCrop(224),\r\n",
        "        transforms.RandomHorizontalFlip(),\r\n",
        "        transforms.ToTensor(),\r\n",
        "        transforms.Normalize([0.485, 0.456, 0.406], [0.229, 0.224, 0.225])\r\n",
        "    ]),\r\n",
        "    'val': transforms.Compose([\r\n",
        "        transforms.Resize(256),\r\n",
        "        transforms.CenterCrop(224),\r\n",
        "        transforms.ToTensor(),\r\n",
        "        transforms.Normalize([0.485, 0.456, 0.406], [0.229, 0.224, 0.225])\r\n",
        "    ]),\r\n",
        "}"
      ],
      "execution_count": 7,
      "outputs": []
    },
    {
      "cell_type": "code",
      "metadata": {
        "id": "5zYBBMYT5SUF"
      },
      "source": [
        "# carrying out the preprocessing \r\n",
        "\r\n",
        "data_dir = '/content/hymenoptera_data'\r\n",
        "\r\n",
        "image_datasets = {x: datasets.ImageFolder(os.path.join(data_dir, x),\r\n",
        "                                          data_transforms[x])\r\n",
        "                  for x in ['train', 'val']}\r\n",
        "dataloaders = {x: torch.utils.data.DataLoader(image_datasets[x], batch_size=4,\r\n",
        "                                             shuffle=True, num_workers=4)\r\n",
        "              for x in ['train', 'val']}\r\n",
        "dataset_sizes = {x: len(image_datasets[x]) for x in ['train', 'val']}\r\n",
        "class_names = image_datasets['train'].classes\r\n",
        "\r\n",
        "device = torch.device(\"cuda:0\" if torch.cuda.is_available() else \"cpu\")\r\n"
      ],
      "execution_count": 8,
      "outputs": []
    },
    {
      "cell_type": "code",
      "metadata": {
        "id": "rzfRRjw68Rs5"
      },
      "source": [
        "# utlity function to plot a tensor i.e. image\r\n",
        "\r\n",
        "def plotImage(inp,title=None):\r\n",
        "    # inp is a tensor\r\n",
        "    inp=inp.numpy().transpose((1,2,0))\r\n",
        "    mean=np.array([0.485, 0.456, 0.406])\r\n",
        "    std = np.array([0.229, 0.224, 0.225])\r\n",
        "    inp = std * inp + mean\r\n",
        "    inp = np.clip(inp, 0, 1)\r\n",
        "    plt.imshow(inp)\r\n",
        "    if title is not None:\r\n",
        "        plt.title(title)\r\n",
        "    plt.pause(0.001) # pause so that the plots get updated\r\n"
      ],
      "execution_count": 10,
      "outputs": []
    },
    {
      "cell_type": "code",
      "metadata": {
        "colab": {
          "base_uri": "https://localhost:8080/",
          "height": 148
        },
        "id": "74i1iiDN8z47",
        "outputId": "5abde708-f2ef-44e4-a135-976d540db1d7"
      },
      "source": [
        "# visualising some images\r\n",
        "\r\n",
        "inputs,classes = next(iter(dataloaders['train']))\r\n",
        "out = torchvision.utils.make_grid(inputs)\r\n",
        "\r\n",
        "plotImage(out,title=[class_names[x] for x in classes])"
      ],
      "execution_count": 13,
      "outputs": [
        {
          "output_type": "display_data",
          "data": {
            "image/png": "[encoded data removed]",
            "text/plain": [
              "<Figure size 432x288 with 1 Axes>"
            ]
          },
          "metadata": {
            "tags": [],
            "needs_background": "light"
          }
        }
      ]
    },
    {
      "cell_type": "code",
      "metadata": {
        "id": "-THquHpx8z6i"
      },
      "source": [
        "# utility function for training a model\r\n",
        "\r\n",
        "def train_model(model,criterion,optimizer,scheduler,num_epochs=25):\r\n",
        "\r\n",
        "    since = time.time() # starting time\r\n",
        "\r\n",
        "    best_model_weights = copy.deepcopy(model.state_dict())\r\n",
        "    best_acc = 0.0\r\n",
        "\r\n",
        "    for epoch in range(num_epochs):\r\n",
        "        print('Epoch {}/{}'.format(epoch,num_epochs-1))\r\n",
        "        print('-'*20)\r\n",
        "\r\n",
        "        # training and validation phase of each epoch\r\n",
        "        for phase in ['train','val']:\r\n",
        "            if phase == 'train':\r\n",
        "                model.train()\r\n",
        "            else:\r\n",
        "                model.eval()\r\n",
        "\r\n",
        "            running_loss = 0.0\r\n",
        "            running_corrects = 0.0\r\n",
        "\r\n",
        "            # iterate over data\r\n",
        "            for inputs,labels in dataloaders[phase]:\r\n",
        "                inputs=inputs.to(device)\r\n",
        "                labels=labels.to(device)\r\n",
        "\r\n",
        "                # set param gradients to zero\r\n",
        "                optimizer.zero_grad()\r\n",
        "\r\n",
        "                # forward\r\n",
        "                with torch.set_grad_enabled(phase=='train'):\r\n",
        "                    outputs = model(inputs)\r\n",
        "                    _,preds = torch.max(outputs,1)\r\n",
        "                    loss = criterion(outputs,labels)\r\n",
        "\r\n",
        "                    #backward - optimise only if train\r\n",
        "                    if phase == 'train':\r\n",
        "                        loss.backward()\r\n",
        "                        optimizer.step()\r\n",
        "\r\n",
        "                # stats\r\n",
        "                running_loss += loss.item() * inputs.size(0)\r\n",
        "                running_corrects +=torch.sum(preds==labels.data)\r\n",
        "\r\n",
        "            \r\n",
        "            if phase == 'train':\r\n",
        "                scheduler.step()\r\n",
        "\r\n",
        "            epoch_loss = running_loss/dataset_sizes[phase]\r\n",
        "            epoch_acc = running_corrects.double()/dataset_sizes[phase]\r\n",
        "\r\n",
        "            print('{} Loss: {:.4f} Acc: {:.4f}'.format(phase,epoch_loss,epoch_acc))\r\n",
        "\r\n",
        "            # deep copy the model\r\n",
        "            if phase == 'val' and epoch_acc > best_acc:\r\n",
        "                best_acc = epoch_acc\r\n",
        "                best_model_weights = copy.deepcopy(model.state_dict())\r\n",
        "            \r\n",
        "        print()\r\n",
        "\r\n",
        "    time_elapsed = time.time() - since\r\n",
        "\r\n",
        "    print('Training complete in {:.0f}m {:.0f}s'.format(time_elapsed//60,time_elapsed%60))\r\n",
        "    print('Best validation accuracy: {:.4f}'.format(best_acc))\r\n",
        "\r\n",
        "    model.load_state_dict(best_model_weights)\r\n",
        "\r\n",
        "    return model\r\n"
      ],
      "execution_count": 21,
      "outputs": []
    },
    {
      "cell_type": "code",
      "metadata": {
        "id": "f92JYzQf-OR4"
      },
      "source": [
        "# utility function to visualise few predictions made by model\r\n",
        "\r\n",
        "def plot_model_preds(model,num_images=6):\r\n",
        "\r\n",
        "    was_training = model.training\r\n",
        "    model.eval()\r\n",
        "    images_so_far = 0\r\n",
        "    fig = plt.figure()\r\n",
        "\r\n",
        "    with torch.no_grad():\r\n",
        "        \r\n",
        "        for i,(inputs,labels) in enumerate(dataloaders['val']):\r\n",
        "            inputs=inputs.to(device)\r\n",
        "            labels=labels.to(device)\r\n",
        "\r\n",
        "            outputs = model(inputs)\r\n",
        "            _,preds=torch.max(outputs,1)\r\n",
        "\r\n",
        "            for j in range(inputs.size()[0]):\r\n",
        "                \r\n",
        "                images_so_far += 1\r\n",
        "                \r\n",
        "                ax = plt.subplot(num_images//2,2,images_so_far)\r\n",
        "                ax.axis('off')\r\n",
        "                ax.set_title('predicted: {}'.format(class_names[preds[j]]))\r\n",
        "                plotImage(inputs.cpu().data[j])\r\n",
        "\r\n",
        "                if images_so_far == num_images:\r\n",
        "                    model.train(mode=was_training)\r\n",
        "                    return\r\n",
        "        \r\n",
        "        model.train(mode=was_training)\r\n"
      ],
      "execution_count": 22,
      "outputs": []
    },
    {
      "cell_type": "code",
      "metadata": {
        "id": "5Iu2Qi9N-OTa"
      },
      "source": [
        "# loading a pre-trained model and reset the final layer\r\n",
        "\r\n",
        "model_ft = models.resnet18(pretrained=True)\r\n",
        "\r\n",
        "num_ftrs = model_ft.fc.in_features\r\n",
        "\r\n",
        "# Here the size of each output sample is set to 2.\r\n",
        "# Alternatively, it can be generalized by :\r\n",
        "# nn.Linear(num_ftrs, len(class_names))\r\n",
        "\r\n",
        "model_ft.fc = nn.Linear(num_ftrs, 2)\r\n",
        "\r\n",
        "model_ft = model_ft.to(device)\r\n",
        "\r\n",
        "criterion = nn.CrossEntropyLoss()\r\n",
        "\r\n",
        "# all params being optimized\r\n",
        "\r\n",
        "optimizer_ft = optim.SGD(model_ft.parameters(),\r\n",
        "                         lr=0.001,\r\n",
        "                         momentum=0.9)\r\n",
        "\r\n",
        "# decay learning rate by factor of 0.1 every 7 epochs\r\n",
        "\r\n",
        "exp_lr_scheduler = lr_scheduler.StepLR(optimizer_ft,\r\n",
        "                                       step_size=7,\r\n",
        "                                       gamma=0.1)\r\n"
      ],
      "execution_count": 23,
      "outputs": []
    },
    {
      "cell_type": "code",
      "metadata": {
        "colab": {
          "base_uri": "https://localhost:8080/"
        },
        "id": "gxs0zdPS-OXE",
        "outputId": "949fa69d-ae07-4958-e007-817387af64ac"
      },
      "source": [
        "# Train and evaluate the model\r\n",
        "\r\n",
        "model_ft = train_model(model_ft,\r\n",
        "                       criterion,\r\n",
        "                       optimizer_ft,\r\n",
        "                       exp_lr_scheduler,\r\n",
        "                       num_epochs=25)"
      ],
      "execution_count": 24,
      "outputs": [
        {
          "output_type": "stream",
          "text": [
            "Epoch 0/24\n",
            "--------------------\n",
            "train Loss: 0.6907 Acc: 0.6557\n",
            "val Loss: 0.2257 Acc: 0.8954\n",
            "\n",
            "Epoch 1/24\n",
            "--------------------\n",
            "train Loss: 0.4951 Acc: 0.8074\n",
            "val Loss: 0.3512 Acc: 0.8431\n",
            "\n",
            "Epoch 2/24\n",
            "--------------------\n",
            "train Loss: 0.4877 Acc: 0.8115\n",
            "val Loss: 0.3403 Acc: 0.8627\n",
            "\n",
            "Epoch 3/24\n",
            "--------------------\n",
            "train Loss: 0.4428 Acc: 0.8197\n",
            "val Loss: 0.2481 Acc: 0.9150\n",
            "\n",
            "Epoch 4/24\n",
            "--------------------\n",
            "train Loss: 0.3030 Acc: 0.8607\n",
            "val Loss: 0.2467 Acc: 0.9216\n",
            "\n",
            "Epoch 5/24\n",
            "--------------------\n",
            "train Loss: 0.4849 Acc: 0.8443\n",
            "val Loss: 0.2160 Acc: 0.9085\n",
            "\n",
            "Epoch 6/24\n",
            "--------------------\n",
            "train Loss: 0.5139 Acc: 0.8238\n",
            "val Loss: 0.2607 Acc: 0.8693\n",
            "\n",
            "Epoch 7/24\n",
            "--------------------\n",
            "train Loss: 0.3248 Acc: 0.8607\n",
            "val Loss: 0.1913 Acc: 0.9412\n",
            "\n",
            "Epoch 8/24\n",
            "--------------------\n",
            "train Loss: 0.3445 Acc: 0.8361\n",
            "val Loss: 0.2038 Acc: 0.9346\n",
            "\n",
            "Epoch 9/24\n",
            "--------------------\n",
            "train Loss: 0.3780 Acc: 0.8361\n",
            "val Loss: 0.2210 Acc: 0.9216\n",
            "\n",
            "Epoch 10/24\n",
            "--------------------\n",
            "train Loss: 0.3006 Acc: 0.8811\n",
            "val Loss: 0.2076 Acc: 0.9281\n",
            "\n",
            "Epoch 11/24\n",
            "--------------------\n",
            "train Loss: 0.2988 Acc: 0.8893\n",
            "val Loss: 0.1992 Acc: 0.9346\n",
            "\n",
            "Epoch 12/24\n",
            "--------------------\n",
            "train Loss: 0.2708 Acc: 0.8934\n",
            "val Loss: 0.1951 Acc: 0.9281\n",
            "\n",
            "Epoch 13/24\n",
            "--------------------\n",
            "train Loss: 0.2289 Acc: 0.9180\n",
            "val Loss: 0.1917 Acc: 0.9281\n",
            "\n",
            "Epoch 14/24\n",
            "--------------------\n",
            "train Loss: 0.2948 Acc: 0.8770\n",
            "val Loss: 0.2004 Acc: 0.9346\n",
            "\n",
            "Epoch 15/24\n",
            "--------------------\n",
            "train Loss: 0.3113 Acc: 0.8566\n",
            "val Loss: 0.2089 Acc: 0.9412\n",
            "\n",
            "Epoch 16/24\n",
            "--------------------\n",
            "train Loss: 0.3091 Acc: 0.8566\n",
            "val Loss: 0.1974 Acc: 0.9346\n",
            "\n",
            "Epoch 17/24\n",
            "--------------------\n",
            "train Loss: 0.3369 Acc: 0.8689\n",
            "val Loss: 0.1948 Acc: 0.9346\n",
            "\n",
            "Epoch 18/24\n",
            "--------------------\n",
            "train Loss: 0.2612 Acc: 0.8934\n",
            "val Loss: 0.1967 Acc: 0.9281\n",
            "\n",
            "Epoch 19/24\n",
            "--------------------\n",
            "train Loss: 0.2480 Acc: 0.8934\n",
            "val Loss: 0.2242 Acc: 0.9216\n",
            "\n",
            "Epoch 20/24\n",
            "--------------------\n",
            "train Loss: 0.2990 Acc: 0.8852\n",
            "val Loss: 0.2084 Acc: 0.9085\n",
            "\n",
            "Epoch 21/24\n",
            "--------------------\n",
            "train Loss: 0.2191 Acc: 0.9057\n",
            "val Loss: 0.2065 Acc: 0.9216\n",
            "\n",
            "Epoch 22/24\n",
            "--------------------\n",
            "train Loss: 0.2953 Acc: 0.8648\n",
            "val Loss: 0.1862 Acc: 0.9346\n",
            "\n",
            "Epoch 23/24\n",
            "--------------------\n",
            "train Loss: 0.2507 Acc: 0.8770\n",
            "val Loss: 0.2105 Acc: 0.9346\n",
            "\n",
            "Epoch 24/24\n",
            "--------------------\n",
            "train Loss: 0.3319 Acc: 0.8402\n",
            "val Loss: 0.1935 Acc: 0.9412\n",
            "\n",
            "Training complete in 35m 21s\n",
            "Best validation accuracy: 0.9412\n"
          ],
          "name": "stdout"
        }
      ]
    },
    {
      "cell_type": "code",
      "metadata": {
        "id": "ITxmvU1MFvgy"
      },
      "source": [
        "plot_model_preds(model_ft,num_images=10)"
      ],
      "execution_count": null,
      "outputs": []
    },
    {
      "cell_type": "code",
      "metadata": {
        "id": "eT59wO-3FvRi"
      },
      "source": [
        ""
      ],
      "execution_count": null,
      "outputs": []
    },
    {
      "cell_type": "code",
      "metadata": {
        "id": "E20td6JeOQZO"
      },
      "source": [
        ""
      ],
      "execution_count": null,
      "outputs": []
    }
  ]
}