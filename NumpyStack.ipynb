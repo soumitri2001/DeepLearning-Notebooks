{
  "nbformat": 4,
  "nbformat_minor": 0,
  "metadata": {
    "colab": {
      "name": "NumpyStack_DL_prereqs.ipynb",
      "provenance": [],
      "collapsed_sections": [],
      "toc_visible": true,
      "authorship_tag": "ABX9TyMF0IbWqgEnl43bt5jAdyoE"
    },
    "kernelspec": {
      "name": "python3",
      "display_name": "Python 3"
    }
  },
  "cells": [
    {
      "cell_type": "markdown",
      "metadata": {
        "id": "SIhiJq9szra-"
      },
      "source": [
        "# Numpy stack: \n",
        "numpy, pandas, scipy and matplotlib"
      ]
    },
    {
      "cell_type": "code",
      "metadata": {
        "id": "b72HLg8F-3t8"
      },
      "source": [
        "import time"
      ],
      "execution_count": null,
      "outputs": []
    },
    {
      "cell_type": "markdown",
      "metadata": {
        "id": "dIoogUfZ0gHc"
      },
      "source": [
        "## Numpy - for arrays and matrices"
      ]
    },
    {
      "cell_type": "code",
      "metadata": {
        "id": "aEzt_e6Lzo1o"
      },
      "source": [
        "import numpy as np"
      ],
      "execution_count": null,
      "outputs": []
    },
    {
      "cell_type": "code",
      "metadata": {
        "id": "PMpSyPHY00eO"
      },
      "source": [
        "# in numpy vectors = 1D arrays, rest are matrices\n",
        "\n",
        "L = [1,2,3]\n",
        "A = np.array(L)\n",
        "\n",
        "for e in L:\n",
        "  print(e)\n",
        "\n",
        "print(\"\\n\")\n",
        "\n",
        "for e in A:\n",
        "  print(e)\n",
        "\n",
        "# Python broadcasting\n",
        "\n",
        "A = A + np.array([4])\n",
        "print(A)\n",
        "\n",
        "A = np.array([[1,2,3],\n",
        "              [0,0,0]]) \n",
        "B = np.array([4,5,6])\n",
        "print(A+B)\n",
        "\n",
        "# scalar operations\n",
        "A = A+B\n",
        "print(A**2)\n",
        "print(A*2)\n",
        "\n",
        "# numpy algebraic functions\n",
        "print(np.sqrt(A))\n",
        "print(np.log(A))\n",
        "print(np.exp(B))\n",
        "print(np.tanh(A))\n",
        "print(np.sin(B))"
      ],
      "execution_count": null,
      "outputs": []
    },
    {
      "cell_type": "code",
      "metadata": {
        "id": "ADs5dRHm2RxL"
      },
      "source": [
        "# dot product\n",
        "\n",
        "a = np.array([1,2])\n",
        "b = np.array([3,4])\n",
        "\n",
        "dot = np.dot(a.T,b) # standard method of dot product \n",
        "print(dot)\n",
        "\n",
        "dot = (a*b).sum() # A.B = a1*b1+a2*b2+...aN*bN\n",
        "print(dot)\n",
        "\n",
        "print(a@b) # dot product syntax in newer versions"
      ],
      "execution_count": null,
      "outputs": []
    },
    {
      "cell_type": "code",
      "metadata": {
        "id": "oPSNGuGL4XqA"
      },
      "source": [
        "# Matrices\n",
        "\n",
        "A = np.array([[1,2,3],\n",
        "              [3,4,5],\n",
        "              [10,9,7]])\n",
        "\n",
        "print(A[:,0]) # select every row value with column = 0\n",
        "\n",
        "print(A[2,:]) # select every column value with row = 2\n",
        "\n",
        "print(A.T) # transpose of matrix\n",
        "\n",
        "B = np.array([[1,2],\n",
        "              [3,4],\n",
        "              [5,6]])\n",
        "\n",
        "C = np.dot(A,B) # matrix multiplication == dot product\n",
        "print(C)\n",
        "\n",
        "# Inverse of a matrix - will throw exception if singular\n",
        "try:\n",
        "  Inv = np.linalg.inv(A)\n",
        "except:\n",
        "  print(\"Singular matrix so inverse not possible\")\n",
        "\n",
        "# trace of a matrix\n",
        "tr = np.trace(A)\n",
        "print(tr)\n",
        "\n",
        "# leading diagonal of the matrix\n",
        "np.diag(A)\n",
        "\n",
        "# eigenvalues and eigenvectors of a matrix\n",
        "eigen = np.linalg.eig(A)\n",
        "\n",
        "print(eigen[0]) # eigenvalues \n",
        "print(eigen[1]) # eigenvectors\n",
        "\n",
        "# correct way to check equality of matrices (as floating point precisions may cause erroneous results)\n",
        "X = np.array([1,2,3])\n",
        "Y = np.array([[1,2,3]])\n",
        "np.allclose(X,Y) # returns True if matrices are equal, else False\n"
      ],
      "execution_count": null,
      "outputs": []
    },
    {
      "cell_type": "code",
      "metadata": {
        "id": "koIq4Uf-6FG9"
      },
      "source": [
        "'''\n",
        "Solving linear systems\n",
        "AX = B => X = np.linag.solve(A,B) solves using Gaussian Elimination\n",
        "N.B. X = np.dot(np.linalg.inv(A),B) solution is very inefficient \n",
        "                                    and slow for large matrices\n",
        "'''\n",
        "\n",
        "A = np.array([[8,4],\n",
        "              [2.5,-8]])\n",
        "B = np.array([28.40,750])\n",
        "\n",
        "start=time.time()\n",
        "X = np.linalg.solve(A,B)\n",
        "end=time.time()\n",
        "print(str((end-start)*1000))\n",
        "\n",
        "start=time.time()\n",
        "X = np.dot(np.linalg.inv(A),B)\n",
        "end=time.time()\n",
        "print(str((end-start)*1000))\n",
        "\n",
        "print(X)"
      ],
      "execution_count": null,
      "outputs": []
    },
    {
      "cell_type": "code",
      "metadata": {
        "id": "F6m3TgB2_Kyb"
      },
      "source": [
        "# generating random data for NN training/ML practices\n",
        "\n",
        "np.zeros((2,4)) # matrix of 0's\n",
        "\n",
        "np.ones((2,3)) # matrix of 1's\n",
        "\n",
        "np.ones((2,3))*7, np.full((2,3),7) # matrix of any constant number\n",
        "\n",
        "np.eye(4) , np.identity(4) # creates n*n identity matrix\n",
        "\n",
        "np.random.randn(3,4) # randomly initialises a 3x4 matrix - Normal/Gaussian distribution\n",
        "\n",
        "np.random.rand(3,4) # randomly initialises a 3x4 matrix - Uniform distribution"
      ],
      "execution_count": null,
      "outputs": []
    },
    {
      "cell_type": "code",
      "metadata": {
        "id": "oGdFfiyuAO-Q"
      },
      "source": [
        "# Statistics with NumPy\n",
        "\n",
        "R = np.random.randn(10000) # 10^4 vector\n",
        "\n",
        "np.mean(R) # mean of the matrix\n",
        "np.var(R) # variance of matrix\n",
        "np.std(R) # Standard deviation of matrix = sqrt(variance)\n",
        "\n",
        "R = np.random.randn(10000,4) # matrix\n",
        "\n",
        "np.mean(R,axis=1) # column wise mean\n",
        "np.mean(R,axis=0) # row wise mean\n",
        "np.std(R,axis=1) # column wise std. dev.\n",
        "\n",
        "# column wise => axis=1 , row wise => axis=0\n",
        "# axis parameter is applicable for almost all algebraic operations"
      ],
      "execution_count": null,
      "outputs": []
    },
    {
      "cell_type": "markdown",
      "metadata": {
        "id": "_U22yptdCuHP"
      },
      "source": [
        "## Matplotlib - data visualising library"
      ]
    },
    {
      "cell_type": "code",
      "metadata": {
        "id": "pCcSwhqQBmeT"
      },
      "source": [
        "import matplotlib.pyplot as plt"
      ],
      "execution_count": null,
      "outputs": []
    },
    {
      "cell_type": "code",
      "metadata": {
        "colab": {
          "base_uri": "https://localhost:8080/",
          "height": 295
        },
        "id": "ihsWowGCC5pI",
        "outputId": "85e9458e-75f9-405d-b201-ecb5e154a69e"
      },
      "source": [
        "# Line Charts\n",
        "\n",
        "x = np.linspace(0,20,1000) # 1000 equally spaced data values between 0 and 20\n",
        "y = np.sin(x+np.sin(x)) \n",
        "\n",
        "plt.plot(x,y) \n",
        "\n",
        "plt.xlabel(\"input\")\n",
        "plt.ylabel(\"output\")\n",
        "plt.title(\"y = sin(x)\")\n",
        "\n",
        "plt.show()"
      ],
      "execution_count": null,
      "outputs": [
        {
          "output_type": "display_data",
          "data": {
            "image/png": "[encoded data removed]",
            "text/plain": [
              "<Figure size 432x288 with 1 Axes>"
            ]
          },
          "metadata": {
            "tags": [],
            "needs_background": "light"
          }
        }
      ]
    },
    {
      "cell_type": "code",
      "metadata": {
        "colab": {
          "base_uri": "https://localhost:8080/",
          "height": 513
        },
        "id": "_hEX-FI4ET2X",
        "outputId": "00f8dcce-ee4d-4fce-bff2-37af99276840"
      },
      "source": [
        "# Scatter plot\n",
        "\n",
        "x = np.random.randn(200,2) # for 2D scatterplot\n",
        "\n",
        "plt.scatter(x[:,0],x[:,1]) # horizontal and vertical axes respectively\n",
        "plt.show()\n",
        "\n",
        "# if we want to take random matrix and shift some points farther manually\n",
        "x = np.random.randn(200,2)\n",
        "x[:50] += 3 # shifts first 50 row values by 3\n",
        "C = np.zeros(200)\n",
        "C[:85]=1 # labels - for colours \n",
        "plt.scatter(x[:,0],x[:,1],c=C) # labelling scatterplot\n",
        "plt.show()"
      ],
      "execution_count": null,
      "outputs": [
        {
          "output_type": "display_data",
          "data": {
            "image/png": "[encoded data removed]",
            "text/plain": [
              "<Figure size 432x288 with 1 Axes>"
            ]
          },
          "metadata": {
            "tags": [],
            "needs_background": "light"
          }
        },
        {
          "output_type": "display_data",
          "data": {
            "image/png": "[encoded data removed]",
            "text/plain": [
              "<Figure size 432x288 with 1 Axes>"
            ]
          },
          "metadata": {
            "tags": [],
            "needs_background": "light"
          }
        }
      ]
    },
    {
      "cell_type": "code",
      "metadata": {
        "colab": {
          "base_uri": "https://localhost:8080/",
          "height": 513
        },
        "id": "irj-Yg63E2Zm",
        "outputId": "564b2be4-b06c-4cdc-9007-788ff0ded05c"
      },
      "source": [
        "# Histograms\n",
        "\n",
        "x = np.random.randn(10000)\n",
        "\n",
        "plt.hist(x)\n",
        "plt.show()\n",
        "\n",
        "plt.hist(x,bins=50) # setting no. of bars of histogram\n",
        "plt.show()"
      ],
      "execution_count": null,
      "outputs": [
        {
          "output_type": "display_data",
          "data": {
            "image/png": "[encoded data removed]",
            "text/plain": [
              "<Figure size 432x288 with 1 Axes>"
            ]
          },
          "metadata": {
            "tags": [],
            "needs_background": "light"
          }
        },
        {
          "output_type": "display_data",
          "data": {
            "image/png": "[encoded data removed]",
            "text/plain": [
              "<Figure size 432x288 with 1 Axes>"
            ]
          },
          "metadata": {
            "tags": [],
            "needs_background": "light"
          }
        }
      ]
    },
    {
      "cell_type": "code",
      "metadata": {
        "id": "x09YH58MI5Dw"
      },
      "source": [
        "'''\n",
        "Image plotting using Matplotlib\n",
        "\n",
        "from PIL import Image\n",
        "\n",
        "img = Image.open('sed_cat.jpg')\n",
        "print(img)\n",
        "\n",
        "# convert to numpy array\n",
        "arr = np.array(img)\n",
        "print(arr)\n",
        "\n",
        "print(arr.shape) \n",
        "# first 2 dimens are length and width, the last dimen is for RGB\n",
        "\n",
        "plt.imshow(arr);\n",
        "\n",
        "# Convert to greyscale - taking mean about the colour dimen\n",
        "\n",
        "grey = arr.mean(axis=2)\n",
        "print(grey.shape)\n",
        "\n",
        "plt.imshow(grey); # this prints a colour heatmap over the image\n",
        "\n",
        "plt.imshow(grey,cmap='gray'); # this prints image in greyscale\n",
        "\n",
        "'''"
      ],
      "execution_count": null,
      "outputs": []
    },
    {
      "cell_type": "markdown",
      "metadata": {
        "id": "McOnaVKuiHhZ"
      },
      "source": [
        "## Pandas - data handling purposes"
      ]
    },
    {
      "cell_type": "code",
      "metadata": {
        "id": "YyW378q9egLd"
      },
      "source": [
        "import pandas as pd"
      ],
      "execution_count": null,
      "outputs": []
    },
    {
      "cell_type": "code",
      "metadata": {
        "colab": {
          "base_uri": "https://localhost:8080/"
        },
        "id": "-W-MywyqiVxu",
        "outputId": "f69f5642-f3a9-498e-9238-1e5e016b54ca"
      },
      "source": [
        "# fetching the data file\n",
        "\n",
        "!wget https://raw.githubusercontent.com/lazyprogrammer/machine_learning_examples/master/tf2.0/sbux.csv"
      ],
      "execution_count": null,
      "outputs": [
        {
          "output_type": "stream",
          "text": [
            "--2020-12-25 15:57:47--  https://raw.githubusercontent.com/lazyprogrammer/machine_learning_examples/master/tf2.0/sbux.csv\n",
            "Resolving raw.githubusercontent.com (raw.githubusercontent.com)... 151.101.0.133, 151.101.64.133, 151.101.128.133, ...\n",
            "Connecting to raw.githubusercontent.com (raw.githubusercontent.com)|151.101.0.133|:443... connected.\n",
            "HTTP request sent, awaiting response... 200 OK\n",
            "Length: 61896 (60K) [text/plain]\n",
            "Saving to: ‘sbux.csv’\n",
            "\n",
            "sbux.csv            100%[===================>]  60.45K  --.-KB/s    in 0.01s   \n",
            "\n",
            "2020-12-25 15:57:47 (5.55 MB/s) - ‘sbux.csv’ saved [61896/61896]\n",
            "\n"
          ],
          "name": "stdout"
        }
      ]
    },
    {
      "cell_type": "code",
      "metadata": {
        "id": "b2w_XoB2jE5k",
        "colab": {
          "base_uri": "https://localhost:8080/"
        },
        "outputId": "49663ba4-451c-48ca-babf-61f5539613aa"
      },
      "source": [
        "# Loading the data using pandas \n",
        "\n",
        "df = pd.read_csv('sbux.csv')\n",
        "\n",
        "# N.B. pasting the link as argument will also work\n",
        "\n",
        "print(type(df))"
      ],
      "execution_count": null,
      "outputs": [
        {
          "output_type": "stream",
          "text": [
            "<class 'pandas.core.frame.DataFrame'>\n"
          ],
          "name": "stdout"
        }
      ]
    },
    {
      "cell_type": "code",
      "metadata": {
        "id": "58R5P33PjTX9"
      },
      "source": [
        "# to get view of dataframe \n",
        "\n",
        "df.head(10) # first 10 rows\n",
        "\n",
        "df.tail(6) # last 6 rows\n",
        "\n",
        "df.info() # all info of the dataframe "
      ],
      "execution_count": null,
      "outputs": []
    },
    {
      "cell_type": "code",
      "metadata": {
        "id": "yDZzgXB_jqR5"
      },
      "source": [
        "# pandas is most useful for handling tabulated date\n",
        "\n",
        "df.columns = ['date', 'open', 'high', 'low', 'close', 'volume', 'name']\n",
        "df.columns, df['open'], type(df['open']), type(df[['date','open']])\n",
        "\n",
        "# one column of pandas is a 'Series' type whereas multiple cols form 'DataFrame' type"
      ],
      "execution_count": null,
      "outputs": []
    },
    {
      "cell_type": "code",
      "metadata": {
        "id": "lkENyEL89fwA",
        "colab": {
          "base_uri": "https://localhost:8080/"
        },
        "outputId": "76181063-a611-47f8-9078-b007f11231bb"
      },
      "source": [
        "'''\n",
        "to get a particular row - iloc() and loc() \n",
        "df.iloc[index] is used for strictly integer indices\n",
        "whereas df.loc[index] is for all types\n",
        "\n",
        "'''\n",
        "df.iloc[0],df.loc[1]['date']"
      ],
      "execution_count": null,
      "outputs": [
        {
          "output_type": "execute_result",
          "data": {
            "text/plain": [
              "(date      2013-02-08\n",
              " open           27.92\n",
              " high          28.325\n",
              " low            27.92\n",
              " close         28.185\n",
              " volume       7146296\n",
              " Name            SBUX\n",
              " Name: 0, dtype: object, '2013-02-11')"
            ]
          },
          "metadata": {
            "tags": []
          },
          "execution_count": 5
        }
      ]
    },
    {
      "cell_type": "code",
      "metadata": {
        "id": "R485s840_waD"
      },
      "source": [
        "# to make a specific column as index\n",
        "df2 = pd.read_csv('sbux.csv',index_col='date') # this makes 'date' col as index\n",
        "df2.head()"
      ],
      "execution_count": null,
      "outputs": []
    },
    {
      "cell_type": "code",
      "metadata": {
        "id": "Ucv6g1zwAo-V"
      },
      "source": [
        "df2.loc['2013-02-14'], type(df2.loc['2013-02-14'])"
      ],
      "execution_count": null,
      "outputs": []
    },
    {
      "cell_type": "code",
      "metadata": {
        "colab": {
          "base_uri": "https://localhost:8080/",
          "height": 402
        },
        "id": "ZQV3r40NA91j",
        "outputId": "ec2cc9ae-7c39-489e-d596-ac88faf1dd1d"
      },
      "source": [
        "# selecting rows with certain parameters (similar to SQL: SELECT...WHERE)\n",
        "\n",
        "df[df['open'] > 64] # selects all rows where 'open' > 64\n",
        "\n",
        "df[df['name'] != 'SBUX'] # selects all rows where 'name' is not 'SBUX'\n",
        "\n",
        "df[df['high']-df['low'] > 1] \n"
      ],
      "execution_count": null,
      "outputs": [
        {
          "output_type": "execute_result",
          "data": {
            "text/html": [
              "<div>\n",
              "<style scoped>\n",
              "    .dataframe tbody tr th:only-of-type {\n",
              "        vertical-align: middle;\n",
              "    }\n",
              "\n",
              "    .dataframe tbody tr th {\n",
              "        vertical-align: top;\n",
              "    }\n",
              "\n",
              "    .dataframe thead th {\n",
              "        text-align: right;\n",
              "    }\n",
              "</style>\n",
              "<table border=\"1\" class=\"dataframe\">\n",
              "  <thead>\n",
              "    <tr style=\"text-align: right;\">\n",
              "      <th></th>\n",
              "      <th>date</th>\n",
              "      <th>open</th>\n",
              "      <th>high</th>\n",
              "      <th>low</th>\n",
              "      <th>close</th>\n",
              "      <th>volume</th>\n",
              "      <th>name</th>\n",
              "    </tr>\n",
              "  </thead>\n",
              "  <tbody>\n",
              "    <tr>\n",
              "      <th>86</th>\n",
              "      <td>2013-06-13</td>\n",
              "      <td>32.270</td>\n",
              "      <td>33.095</td>\n",
              "      <td>32.0350</td>\n",
              "      <td>32.985</td>\n",
              "      <td>11909482</td>\n",
              "      <td>SBUX</td>\n",
              "    </tr>\n",
              "    <tr>\n",
              "      <th>114</th>\n",
              "      <td>2013-07-24</td>\n",
              "      <td>34.060</td>\n",
              "      <td>34.215</td>\n",
              "      <td>33.1500</td>\n",
              "      <td>33.305</td>\n",
              "      <td>14033776</td>\n",
              "      <td>SBUX</td>\n",
              "    </tr>\n",
              "    <tr>\n",
              "      <th>153</th>\n",
              "      <td>2013-09-18</td>\n",
              "      <td>37.940</td>\n",
              "      <td>38.810</td>\n",
              "      <td>37.7750</td>\n",
              "      <td>38.665</td>\n",
              "      <td>9488762</td>\n",
              "      <td>SBUX</td>\n",
              "    </tr>\n",
              "    <tr>\n",
              "      <th>167</th>\n",
              "      <td>2013-10-08</td>\n",
              "      <td>38.555</td>\n",
              "      <td>39.015</td>\n",
              "      <td>37.7200</td>\n",
              "      <td>37.765</td>\n",
              "      <td>12663250</td>\n",
              "      <td>SBUX</td>\n",
              "    </tr>\n",
              "    <tr>\n",
              "      <th>184</th>\n",
              "      <td>2013-10-31</td>\n",
              "      <td>39.345</td>\n",
              "      <td>40.810</td>\n",
              "      <td>39.2859</td>\n",
              "      <td>40.525</td>\n",
              "      <td>20491552</td>\n",
              "      <td>SBUX</td>\n",
              "    </tr>\n",
              "    <tr>\n",
              "      <th>...</th>\n",
              "      <td>...</td>\n",
              "      <td>...</td>\n",
              "      <td>...</td>\n",
              "      <td>...</td>\n",
              "      <td>...</td>\n",
              "      <td>...</td>\n",
              "      <td>...</td>\n",
              "    </tr>\n",
              "    <tr>\n",
              "      <th>1248</th>\n",
              "      <td>2018-01-24</td>\n",
              "      <td>61.510</td>\n",
              "      <td>61.940</td>\n",
              "      <td>60.2326</td>\n",
              "      <td>60.830</td>\n",
              "      <td>11911867</td>\n",
              "      <td>SBUX</td>\n",
              "    </tr>\n",
              "    <tr>\n",
              "      <th>1250</th>\n",
              "      <td>2018-01-26</td>\n",
              "      <td>57.940</td>\n",
              "      <td>58.170</td>\n",
              "      <td>56.5500</td>\n",
              "      <td>57.990</td>\n",
              "      <td>51851690</td>\n",
              "      <td>SBUX</td>\n",
              "    </tr>\n",
              "    <tr>\n",
              "      <th>1251</th>\n",
              "      <td>2018-01-29</td>\n",
              "      <td>57.550</td>\n",
              "      <td>58.350</td>\n",
              "      <td>56.9100</td>\n",
              "      <td>57.020</td>\n",
              "      <td>18899867</td>\n",
              "      <td>SBUX</td>\n",
              "    </tr>\n",
              "    <tr>\n",
              "      <th>1256</th>\n",
              "      <td>2018-02-05</td>\n",
              "      <td>55.530</td>\n",
              "      <td>56.260</td>\n",
              "      <td>54.5700</td>\n",
              "      <td>54.690</td>\n",
              "      <td>16059955</td>\n",
              "      <td>SBUX</td>\n",
              "    </tr>\n",
              "    <tr>\n",
              "      <th>1257</th>\n",
              "      <td>2018-02-06</td>\n",
              "      <td>53.685</td>\n",
              "      <td>56.060</td>\n",
              "      <td>53.5600</td>\n",
              "      <td>55.610</td>\n",
              "      <td>17415065</td>\n",
              "      <td>SBUX</td>\n",
              "    </tr>\n",
              "  </tbody>\n",
              "</table>\n",
              "<p>238 rows × 7 columns</p>\n",
              "</div>"
            ],
            "text/plain": [
              "            date    open    high      low   close    volume  name\n",
              "86    2013-06-13  32.270  33.095  32.0350  32.985  11909482  SBUX\n",
              "114   2013-07-24  34.060  34.215  33.1500  33.305  14033776  SBUX\n",
              "153   2013-09-18  37.940  38.810  37.7750  38.665   9488762  SBUX\n",
              "167   2013-10-08  38.555  39.015  37.7200  37.765  12663250  SBUX\n",
              "184   2013-10-31  39.345  40.810  39.2859  40.525  20491552  SBUX\n",
              "...          ...     ...     ...      ...     ...       ...   ...\n",
              "1248  2018-01-24  61.510  61.940  60.2326  60.830  11911867  SBUX\n",
              "1250  2018-01-26  57.940  58.170  56.5500  57.990  51851690  SBUX\n",
              "1251  2018-01-29  57.550  58.350  56.9100  57.020  18899867  SBUX\n",
              "1256  2018-02-05  55.530  56.260  54.5700  54.690  16059955  SBUX\n",
              "1257  2018-02-06  53.685  56.060  53.5600  55.610  17415065  SBUX\n",
              "\n",
              "[238 rows x 7 columns]"
            ]
          },
          "metadata": {
            "tags": []
          },
          "execution_count": 9
        }
      ]
    },
    {
      "cell_type": "code",
      "metadata": {
        "id": "c7zL3lZfBU0K"
      },
      "source": [
        "# to convert the dataframe into numpy array - strings have to be excluded\n",
        "\n",
        "A = df.values # all cols taken\n",
        "print(type(A)) \n",
        "print(A.dtype) # here dtype=object\n",
        "\n",
        "A = df[['open','close','high','low']].values\n",
        "print(type(A)) \n",
        "print(A.dtype) # here dtype is numeric (float)"
      ],
      "execution_count": null,
      "outputs": []
    },
    {
      "cell_type": "code",
      "metadata": {
        "id": "IFRmtRkBEAmd"
      },
      "source": [
        "# save editted data to a .csv file\n",
        "\n",
        "small_df = df[['open','close']]\n",
        "small_df.to_csv('output.csv') # saves the dataframe to a csv file"
      ],
      "execution_count": null,
      "outputs": []
    },
    {
      "cell_type": "code",
      "metadata": {
        "id": "YbmNDkF7qWc9"
      },
      "source": [
        "!head output.csv # linux command to print head of the csv file"
      ],
      "execution_count": null,
      "outputs": []
    },
    {
      "cell_type": "code",
      "metadata": {
        "id": "Nk4RBQtgqazX"
      },
      "source": [
        "small_df.to_csv('output.csv',index=False) # index column is removed\n",
        "!head output.csv"
      ],
      "execution_count": null,
      "outputs": []
    },
    {
      "cell_type": "code",
      "metadata": {
        "colab": {
          "base_uri": "https://localhost:8080/",
          "height": 195
        },
        "id": "DHXFQyZGqggl",
        "outputId": "61696612-ae4d-4aa9-e1b3-f47c72983aa6"
      },
      "source": [
        "# apply() - performing same operation on each row/column of a dataframe\n",
        "# useful for preprocessing data before converting to numpy arrays\n",
        "\n",
        "def date_to_year(row):\n",
        "    # extracts the year out of the datestamp provided in the dataframe\n",
        "    return int(row['date'].split('-')[0])\n",
        "\n",
        "def range(row):\n",
        "    # returns a column containing difference of 'high' and 'low' values\n",
        "    return float(row['high']-row['low'])\n",
        "\n",
        "df.apply(date_to_year,axis=1) \n",
        "\n",
        "df['year'] = df.apply(date_to_year,axis=1) \n",
        "df.head()\n",
        "\n",
        "df['range'] = df.apply(range,axis=1)\n",
        "df.head()"
      ],
      "execution_count": null,
      "outputs": [
        {
          "output_type": "execute_result",
          "data": {
            "text/html": [
              "<div>\n",
              "<style scoped>\n",
              "    .dataframe tbody tr th:only-of-type {\n",
              "        vertical-align: middle;\n",
              "    }\n",
              "\n",
              "    .dataframe tbody tr th {\n",
              "        vertical-align: top;\n",
              "    }\n",
              "\n",
              "    .dataframe thead th {\n",
              "        text-align: right;\n",
              "    }\n",
              "</style>\n",
              "<table border=\"1\" class=\"dataframe\">\n",
              "  <thead>\n",
              "    <tr style=\"text-align: right;\">\n",
              "      <th></th>\n",
              "      <th>date</th>\n",
              "      <th>open</th>\n",
              "      <th>high</th>\n",
              "      <th>low</th>\n",
              "      <th>close</th>\n",
              "      <th>volume</th>\n",
              "      <th>name</th>\n",
              "      <th>year</th>\n",
              "      <th>range</th>\n",
              "    </tr>\n",
              "  </thead>\n",
              "  <tbody>\n",
              "    <tr>\n",
              "      <th>0</th>\n",
              "      <td>2013-02-08</td>\n",
              "      <td>27.920</td>\n",
              "      <td>28.325</td>\n",
              "      <td>27.920</td>\n",
              "      <td>28.185</td>\n",
              "      <td>7146296</td>\n",
              "      <td>SBUX</td>\n",
              "      <td>2013</td>\n",
              "      <td>0.405</td>\n",
              "    </tr>\n",
              "    <tr>\n",
              "      <th>1</th>\n",
              "      <td>2013-02-11</td>\n",
              "      <td>28.260</td>\n",
              "      <td>28.260</td>\n",
              "      <td>27.930</td>\n",
              "      <td>28.070</td>\n",
              "      <td>5457354</td>\n",
              "      <td>SBUX</td>\n",
              "      <td>2013</td>\n",
              "      <td>0.330</td>\n",
              "    </tr>\n",
              "    <tr>\n",
              "      <th>2</th>\n",
              "      <td>2013-02-12</td>\n",
              "      <td>28.000</td>\n",
              "      <td>28.275</td>\n",
              "      <td>27.975</td>\n",
              "      <td>28.130</td>\n",
              "      <td>8665592</td>\n",
              "      <td>SBUX</td>\n",
              "      <td>2013</td>\n",
              "      <td>0.300</td>\n",
              "    </tr>\n",
              "    <tr>\n",
              "      <th>3</th>\n",
              "      <td>2013-02-13</td>\n",
              "      <td>28.230</td>\n",
              "      <td>28.230</td>\n",
              "      <td>27.750</td>\n",
              "      <td>27.915</td>\n",
              "      <td>7022056</td>\n",
              "      <td>SBUX</td>\n",
              "      <td>2013</td>\n",
              "      <td>0.480</td>\n",
              "    </tr>\n",
              "    <tr>\n",
              "      <th>4</th>\n",
              "      <td>2013-02-14</td>\n",
              "      <td>27.765</td>\n",
              "      <td>27.905</td>\n",
              "      <td>27.675</td>\n",
              "      <td>27.775</td>\n",
              "      <td>8899188</td>\n",
              "      <td>SBUX</td>\n",
              "      <td>2013</td>\n",
              "      <td>0.230</td>\n",
              "    </tr>\n",
              "  </tbody>\n",
              "</table>\n",
              "</div>"
            ],
            "text/plain": [
              "         date    open    high     low   close   volume  name  year  range\n",
              "0  2013-02-08  27.920  28.325  27.920  28.185  7146296  SBUX  2013  0.405\n",
              "1  2013-02-11  28.260  28.260  27.930  28.070  5457354  SBUX  2013  0.330\n",
              "2  2013-02-12  28.000  28.275  27.975  28.130  8665592  SBUX  2013  0.300\n",
              "3  2013-02-13  28.230  28.230  27.750  27.915  7022056  SBUX  2013  0.480\n",
              "4  2013-02-14  27.765  27.905  27.675  27.775  8899188  SBUX  2013  0.230"
            ]
          },
          "metadata": {
            "tags": []
          },
          "execution_count": 26
        }
      ]
    },
    {
      "cell_type": "code",
      "metadata": {
        "colab": {
          "base_uri": "https://localhost:8080/",
          "height": 513
        },
        "id": "nt5PaFJbziba",
        "outputId": "7befeef9-b98d-4d58-cfff-d100dd7166b4"
      },
      "source": [
        "# Plotting with pandas\n",
        "\n",
        "df['open'].hist(); # histogram for 'open' column\n",
        "\n",
        "df[['open','high','low','close']].plot.box(); # box plot\n",
        "\n"
      ],
      "execution_count": null,
      "outputs": [
        {
          "output_type": "display_data",
          "data": {
            "image/png": "[encoded data removed]",
            "text/plain": [
              "<Figure size 432x288 with 1 Axes>"
            ]
          },
          "metadata": {
            "tags": [],
            "needs_background": "light"
          }
        },
        {
          "output_type": "display_data",
          "data": {
            "image/png": "[encoded data removed]",
            "text/plain": [
              "<Figure size 432x288 with 1 Axes>"
            ]
          },
          "metadata": {
            "tags": [],
            "needs_background": "light"
          }
        }
      ]
    },
    {
      "cell_type": "markdown",
      "metadata": {
        "id": "QjnRLSwu7FYh"
      },
      "source": [
        "## Scipy - for scientific computing"
      ]
    },
    {
      "cell_type": "code",
      "metadata": {
        "id": "wZvtnMBe3M6d"
      },
      "source": [
        "# Statistics and probability\n",
        "from scipy.stats import norm\n",
        "\n",
        "x = np.linspace(-6,6,1000)\n",
        "fx = norm.pdf(x,loc=0,scale=1) # standard normal pdf \n",
        "\n",
        "plt.plot(x,fx);\n",
        "\n",
        "Fx = norm.cdf(x,loc=0,scale=1) # standard normal cdf\n",
        "plt.plot(x,Fx);\n",
        "\n",
        "# also we have norm.logpdf etc"
      ],
      "execution_count": null,
      "outputs": []
    },
    {
      "cell_type": "markdown",
      "metadata": {
        "id": "XyOAbVs1_AlK"
      },
      "source": [
        "#### Convolution -  a very fundamental operation in DL and Signal processing"
      ]
    },
    {
      "cell_type": "code",
      "metadata": {
        "id": "CSqkBMv48QlM"
      },
      "source": [
        "from PIL import Image\n",
        "\n",
        "!wget https://github.com/soumitri2001/CodeForces-Statistics-android-app/raw/master/app_src/screenshots/cf3.png"
      ],
      "execution_count": null,
      "outputs": []
    },
    {
      "cell_type": "code",
      "metadata": {
        "id": "duBOUj319G6o"
      },
      "source": [
        "img = Image.open('image_2.png')\n",
        "img = img.resize((800,800))\n",
        "gray = np.mean(img,axis=2) # grayscale image"
      ],
      "execution_count": null,
      "outputs": []
    },
    {
      "cell_type": "code",
      "metadata": {
        "colab": {
          "base_uri": "https://localhost:8080/",
          "height": 267
        },
        "id": "nm4jmxo_-cHv",
        "outputId": "1a0240a3-4cdb-4f1b-e34b-3647056984b7"
      },
      "source": [
        "# 2D convolution works for 2D images, so we get rid of 3rd dimen\n",
        "\n",
        "x = np.linspace(-6,6,50)\n",
        "fx = norm.pdf(x,loc=0,scale=1) # normal pdf for the distribution\n",
        "\n",
        "# outer product of fx with itself gives Gaussian filter\n",
        "filt = np.outer(fx,fx) \n",
        "\n",
        "plt.imshow(filt,cmap='gray');"
      ],
      "execution_count": null,
      "outputs": [
        {
          "output_type": "display_data",
          "data": {
            "image/png": "[encoded data removed]",
            "text/plain": [
              "<Figure size 432x288 with 1 Axes>"
            ]
          },
          "metadata": {
            "tags": [],
            "needs_background": "light"
          }
        }
      ]
    },
    {
      "cell_type": "code",
      "metadata": {
        "id": "Ea4QgVOmDesN"
      },
      "source": [
        "# Convolution\n",
        "from scipy.signal import convolve2d"
      ],
      "execution_count": null,
      "outputs": []
    },
    {
      "cell_type": "code",
      "metadata": {
        "colab": {
          "base_uri": "https://localhost:8080/",
          "height": 204
        },
        "id": "IV5wkBnfDwoA",
        "outputId": "1dbc5a3c-6120-46fd-e58f-04bf63509e5b"
      },
      "source": [
        "out = convolve2d(gray,filt)\n",
        "\n",
        "plt.subplot(1,2,1)\n",
        "plt.imshow(gray,cmap='gray')\n",
        "\n",
        "plt.subplot(1,2,2)\n",
        "plt.imshow(out, cmap='gray')\n",
        "\n",
        "plt.show();"
      ],
      "execution_count": null,
      "outputs": [
        {
          "output_type": "display_data",
          "data": {
            "image/png": "[encoded data removed]",
            "text/plain": [
              "<Figure size 432x288 with 2 Axes>"
            ]
          },
          "metadata": {
            "tags": [],
            "needs_background": "light"
          }
        }
      ]
    },
    {
      "cell_type": "code",
      "metadata": {
        "colab": {
          "base_uri": "https://localhost:8080/",
          "height": 269
        },
        "id": "aR5Jh-UuEEij",
        "outputId": "745200c8-aa77-4046-923c-1d4f3c88da66"
      },
      "source": [
        "# Scipy exercise - Edge Detection\n",
        "Hx = np.array([[1,0,-1],\n",
        "               [2,0,-2],\n",
        "               [1,0,-1]])\n",
        "Hy = np.array([[1,2,1],\n",
        "               [0,0,0],\n",
        "               [-1,-2,-1]])\n",
        "\n",
        "Gx = convolve2d(gray,Hx)\n",
        "Gy = convolve2d(gray,Hy)\n",
        "\n",
        "G = np.sqrt(Gx**2 + Gy**2)\n",
        "\n",
        "plt.imshow(G,cmap='gray');"
      ],
      "execution_count": null,
      "outputs": [
        {
          "output_type": "display_data",
          "data": {
            "image/png": "[encoded data removed]",
            "text/plain": [
              "<Figure size 432x288 with 1 Axes>"
            ]
          },
          "metadata": {
            "tags": [],
            "needs_background": "light"
          }
        }
      ]
    },
    {
      "cell_type": "code",
      "metadata": {
        "id": "JBjeyxEkF-vj"
      },
      "source": [
        ""
      ],
      "execution_count": null,
      "outputs": []
    }
  ]
}