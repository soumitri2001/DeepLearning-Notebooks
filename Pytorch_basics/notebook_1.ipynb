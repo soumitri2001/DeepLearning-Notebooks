{
  "nbformat": 4,
  "nbformat_minor": 0,
  "metadata": {
    "colab": {
      "name": "Pytorch_for_dummies_part 1.ipynb",
      "provenance": [],
      "collapsed_sections": [
        "h8SBEBVtMZsP"
      ]
    },
    "kernelspec": {
      "name": "python3",
      "display_name": "Python 3"
    }
  },
  "cells": [
    {
      "cell_type": "code",
      "metadata": {
        "id": "dcIW4bbpoPEb"
      },
      "source": [
        "import torch\r\n",
        "import torch.nn as nn\r\n",
        "import numpy as np"
      ],
      "execution_count": null,
      "outputs": []
    },
    {
      "cell_type": "markdown",
      "metadata": {
        "id": "h8SBEBVtMZsP"
      },
      "source": [
        "### Elementary stuffs"
      ]
    },
    {
      "cell_type": "code",
      "metadata": {
        "colab": {
          "base_uri": "https://localhost:8080/"
        },
        "id": "q_9VoN3son3t",
        "outputId": "37219da7-a6d0-40d0-f12d-e259a11c2a00"
      },
      "source": [
        "# tensors\r\n",
        "\r\n",
        "x = torch.ones([2,2,3],dtype=torch.float16)\r\n",
        "\r\n",
        "print(x.size())\r\n",
        "\r\n",
        "# get tensor from a list\r\n",
        "arr = [2,3,4]\r\n",
        "x = torch.tensor(arr)\r\n",
        "\r\n",
        "# add and basic ops\r\n",
        "A = torch.randn([2,2])\r\n",
        "B = torch.randn([2,2])\r\n",
        "\r\n",
        "C = A + B\r\n",
        "print(C) \r\n",
        "\r\n",
        "C = torch.add(A,B) # same as A+B\r\n",
        "print(C)\r\n",
        "\r\n",
        "C.sub_(C) # in-place: x -= y \r\n",
        "print(C)"
      ],
      "execution_count": null,
      "outputs": [
        {
          "output_type": "stream",
          "text": [
            "torch.Size([2, 2, 3])\n",
            "tensor([[ 0.2677,  0.1813],\n",
            "        [-0.0881, -0.0755]])\n",
            "tensor([[ 0.2677,  0.1813],\n",
            "        [-0.0881, -0.0755]])\n",
            "tensor([[0., 0.],\n",
            "        [0., 0.]])\n"
          ],
          "name": "stdout"
        }
      ]
    },
    {
      "cell_type": "code",
      "metadata": {
        "colab": {
          "base_uri": "https://localhost:8080/"
        },
        "id": "zgq7qi0FoyQQ",
        "outputId": "b190896f-d83d-444e-f3b7-a4145296d28f"
      },
      "source": [
        "# slicing ops\r\n",
        "\r\n",
        "A = torch.tensor([[1,2,3],\r\n",
        "                  [4,5,6]])\r\n",
        "\r\n",
        "print(A[:,1]) # all rows of 2nd column\r\n",
        "print(A[0,:]) # all columns of 1st row"
      ],
      "execution_count": null,
      "outputs": [
        {
          "output_type": "stream",
          "text": [
            "tensor([2, 5])\n",
            "tensor([1, 2, 3])\n"
          ],
          "name": "stdout"
        }
      ]
    },
    {
      "cell_type": "code",
      "metadata": {
        "colab": {
          "base_uri": "https://localhost:8080/"
        },
        "id": "RU_E_qgqqWfR",
        "outputId": "2d7e36d4-a360-4658-d60c-f94e26dc81d4"
      },
      "source": [
        "# reshaping  tensors: view() method\r\n",
        "\r\n",
        "x = torch.randn(4,4)\r\n",
        "print(x)\r\n",
        "\r\n",
        "y = x.view(16) # reshaping to a Nx1 tensor\r\n",
        "print(y)\r\n",
        "\r\n",
        "y = x.view(-1,2) # specifying the column dimension only: 2x8\r\n",
        "print(y)\r\n",
        "\r\n",
        "y = x.view(-1,16) # 1x16\r\n",
        "print(y)"
      ],
      "execution_count": null,
      "outputs": [
        {
          "output_type": "stream",
          "text": [
            "tensor([[ 0.1400,  0.4221,  1.1614, -0.1205],\n",
            "        [-0.4425, -0.5927, -0.5093, -1.6669],\n",
            "        [-0.0986,  0.2028, -0.9924,  0.2785],\n",
            "        [ 0.4964,  0.2540,  0.3547, -0.4598]])\n",
            "tensor([ 0.1400,  0.4221,  1.1614, -0.1205, -0.4425, -0.5927, -0.5093, -1.6669,\n",
            "        -0.0986,  0.2028, -0.9924,  0.2785,  0.4964,  0.2540,  0.3547, -0.4598])\n",
            "tensor([[ 0.1400,  0.4221],\n",
            "        [ 1.1614, -0.1205],\n",
            "        [-0.4425, -0.5927],\n",
            "        [-0.5093, -1.6669],\n",
            "        [-0.0986,  0.2028],\n",
            "        [-0.9924,  0.2785],\n",
            "        [ 0.4964,  0.2540],\n",
            "        [ 0.3547, -0.4598]])\n",
            "tensor([[ 0.1400,  0.4221,  1.1614, -0.1205, -0.4425, -0.5927, -0.5093, -1.6669,\n",
            "         -0.0986,  0.2028, -0.9924,  0.2785,  0.4964,  0.2540,  0.3547, -0.4598]])\n"
          ],
          "name": "stdout"
        }
      ]
    },
    {
      "cell_type": "code",
      "metadata": {
        "colab": {
          "base_uri": "https://localhost:8080/"
        },
        "id": "TKYjaGewrSQH",
        "outputId": "96284e93-60ad-42c1-c40f-5cd52f3b623c"
      },
      "source": [
        "# convert tensor to numpy array and vice-versa\r\n",
        "\r\n",
        "x = torch.randn(4)\r\n",
        "print(type(x))\r\n",
        "\r\n",
        "y = x.numpy() # convert tensor to numpy\r\n",
        "\r\n",
        "print(type(y))\r\n",
        "\r\n",
        "z = torch.from_numpy(y)\r\n",
        "print(type(z))\r\n",
        "\r\n",
        "'''\r\n",
        "if tensor is on cpu, then even after conversion both the tensor \r\n",
        "and the numpy array will point to the same memory location,\r\n",
        "so changes in any of them will change values of both.\r\n",
        "\r\n",
        "to declare a tensor on gpu:\r\n",
        "\r\n",
        "if torch.cuda.is_available():\r\n",
        "    \r\n",
        "    device = torch.device('cuda')\r\n",
        "    x = torch.ones(5,device=device)\r\n",
        "    y = torch.ones(5)\r\n",
        "    y = y.to(device) # this moves tensor to the specified device\r\n",
        "\r\n",
        "    # numpy can only handle cpu tensors, so to convert a gpu \r\n",
        "    # tensor back to numpy we need to first take it to the cpu.\r\n",
        "\r\n",
        "    z = x + y\r\n",
        "    z = z.to('cpu')  \r\n",
        "\r\n",
        "'''\r\n",
        "\r\n",
        "A = np.ones(5)\r\n",
        "B = torch.from_numpy(A)\r\n",
        "\r\n",
        "print(A)\r\n",
        "print(B)\r\n",
        "\r\n",
        "A += 1 # this changes values in B also\r\n",
        "\r\n",
        "print(A)\r\n",
        "print(B)\r\n"
      ],
      "execution_count": null,
      "outputs": [
        {
          "output_type": "stream",
          "text": [
            "<class 'torch.Tensor'>\n",
            "<class 'numpy.ndarray'>\n",
            "<class 'torch.Tensor'>\n",
            "[1. 1. 1. 1. 1.]\n",
            "tensor([1., 1., 1., 1., 1.], dtype=torch.float64)\n",
            "[2. 2. 2. 2. 2.]\n",
            "tensor([2., 2., 2., 2., 2.], dtype=torch.float64)\n"
          ],
          "name": "stdout"
        }
      ]
    },
    {
      "cell_type": "code",
      "metadata": {
        "colab": {
          "base_uri": "https://localhost:8080/"
        },
        "id": "QaBY8FxTuY85",
        "outputId": "8fbec4e0-62c0-47f0-e25f-2fea5a515f19"
      },
      "source": [
        "# calculating gradients using autograd\r\n",
        "\r\n",
        "x = torch.randn(3,requires_grad=True) # this parameter allows us to \r\n",
        "                                      # calculate gradients wrt this tensor \r\n",
        "                                      # by creating computational graphs\r\n",
        "print(x)\r\n",
        "\r\n",
        "y = 2*x-1\r\n",
        "print(y)\r\n",
        "\r\n",
        "z = y*y*2\r\n",
        "print(z)\r\n",
        "\r\n",
        "z = z.mean()\r\n",
        "print(z)\r\n",
        "\r\n",
        "# backpropagation\r\n",
        "z.backward() # dz/dx: note that z needs to be a scalar\r\n",
        "print(x.grad) # gradients using chain rule\r\n",
        "\r\n",
        "'''\r\n",
        "if we need to update weights in training loop - these Ops\r\n",
        "should not be part of gradient calculation\r\n",
        "\r\n",
        "the following 3 ways prevents tracking of history of gradients:\r\n",
        "    \r\n",
        "    x.requires_grad_(False) - inplace change\r\n",
        "    x.detach() - creates a new tensor with same values\r\n",
        "    wrap it in a \"with torch.no_grad():\" statement\r\n",
        "'''\r\n",
        "\r\n",
        "with torch.no_grad():\r\n",
        "    y = x + 2\r\n",
        "    print(y)"
      ],
      "execution_count": null,
      "outputs": [
        {
          "output_type": "stream",
          "text": [
            "tensor([-0.4986,  0.8017, -0.2202], requires_grad=True)\n",
            "tensor([-1.9973,  0.6033, -1.4405], grad_fn=<SubBackward0>)\n",
            "tensor([7.9783, 0.7280, 4.1500], grad_fn=<MulBackward0>)\n",
            "tensor(4.2854, grad_fn=<MeanBackward0>)\n",
            "tensor([-5.3261,  1.6088, -3.8413])\n",
            "tensor([1.5014, 2.8017, 1.7798])\n"
          ],
          "name": "stdout"
        }
      ]
    },
    {
      "cell_type": "code",
      "metadata": {
        "colab": {
          "base_uri": "https://localhost:8080/"
        },
        "id": "kou2hFMyuc21",
        "outputId": "548bb4f7-bcc1-439d-802a-2bec80dacc44"
      },
      "source": [
        "weights= torch.ones(4,requires_grad=True)\r\n",
        "\r\n",
        "for epoch in range(1):\r\n",
        "    \r\n",
        "    output = (weights*3).sum()\r\n",
        "    \r\n",
        "    output.backward() # calculating gradients\r\n",
        "    \r\n",
        "    print(weights.grad)\r\n",
        "\r\n",
        "    weights.grad.zero_() # emptying gradients"
      ],
      "execution_count": null,
      "outputs": [
        {
          "output_type": "stream",
          "text": [
            "tensor([3., 3., 3., 3.])\n"
          ],
          "name": "stdout"
        }
      ]
    },
    {
      "cell_type": "markdown",
      "metadata": {
        "id": "OMbLeFdAMDkd"
      },
      "source": [
        "### linear regression - manual + using autograd for gradient computation\r\n",
        "\r\n",
        "##### f(x) = 2x"
      ]
    },
    {
      "cell_type": "code",
      "metadata": {
        "colab": {
          "base_uri": "https://localhost:8080/"
        },
        "id": "kkqeTxae-uRX",
        "outputId": "71b9027f-f7eb-4aa9-a346-3f331d38d0e8"
      },
      "source": [
        "# linear regression manually using numpy only \r\n",
        "\r\n",
        "X = np.array([1,2,3,4],dtype=np.float32)\r\n",
        "y = np.array([2,4,6,8],dtype=np.float32)\r\n",
        "\r\n",
        "w = 0.0\r\n",
        "\r\n",
        "# model prediction\r\n",
        "def forward(x):\r\n",
        "    return w*x\r\n",
        "\r\n",
        "# loss = MSE\r\n",
        "def loss(y,y_pred):\r\n",
        "    return ((y_pred-y)**2).mean()\r\n",
        "\r\n",
        "# gradient\r\n",
        "# MSE = (1/N) *( w*x - y)**2\r\n",
        "# dJ/dw = (1/N) * dot(2*x,(w*x - y))\r\n",
        "def gradient(x,y,y_pred):\r\n",
        "    return np.dot(2*x,y_pred-y).mean()\r\n",
        "\r\n",
        "\r\n",
        "print(f'prediction before training: f(5) = {forward(5):.3f}')\r\n",
        "\r\n",
        "# training:\r\n",
        "learning_rate = 0.01\r\n",
        "n_epochs = 10\r\n",
        "\r\n",
        "for epoch in range(n_epochs):\r\n",
        "    \r\n",
        "    # preds = = forward pass\r\n",
        "    y_pred = forward(X)\r\n",
        "\r\n",
        "    # loss\r\n",
        "    l = loss(y,y_pred)\r\n",
        "\r\n",
        "    # gradients\r\n",
        "    dw = gradient(X,y,y_pred)\r\n",
        "\r\n",
        "    # update weights\r\n",
        "    w = w - learning_rate * dw\r\n",
        "\r\n",
        "    print(f'epoch {(epoch+1)*1}: w = {w:.3f},loss = {l:.8f}')\r\n",
        "\r\n",
        "print(f'prediction after training: f(5) = {forward(5):.3f}')"
      ],
      "execution_count": null,
      "outputs": [
        {
          "output_type": "stream",
          "text": [
            "prediction before training: f(5) = 0.000\n",
            "epoch 1: w = 1.200,loss = 30.00000000\n",
            "epoch 2: w = 1.680,loss = 4.79999924\n",
            "epoch 3: w = 1.872,loss = 0.76800019\n",
            "epoch 4: w = 1.949,loss = 0.12288000\n",
            "epoch 5: w = 1.980,loss = 0.01966083\n",
            "epoch 6: w = 1.992,loss = 0.00314574\n",
            "epoch 7: w = 1.997,loss = 0.00050331\n",
            "epoch 8: w = 1.999,loss = 0.00008053\n",
            "epoch 9: w = 1.999,loss = 0.00001288\n",
            "epoch 10: w = 2.000,loss = 0.00000206\n",
            "prediction after training: f(5) = 9.999\n"
          ],
          "name": "stdout"
        }
      ]
    },
    {
      "cell_type": "code",
      "metadata": {
        "colab": {
          "base_uri": "https://localhost:8080/"
        },
        "id": "w_yeGNydD-uR",
        "outputId": "3ba432e2-bea2-4d1a-df4d-d62467b6b1a4"
      },
      "source": [
        "# linear regression using a Linear layer and autograd for gradient computation\r\n",
        "\r\n",
        "'''\r\n",
        "pipeline:\r\n",
        "\r\n",
        "1) design model (input_size,output_size,forward_pass)\r\n",
        "2) construct loss and optimizer\r\n",
        "3) training loop over n_epochs:\r\n",
        "    - forward pass: compute predictions\r\n",
        "    - backward pass: compute gradients\r\n",
        "    - update weights\r\n",
        "\r\n",
        "'''\r\n",
        "\r\n",
        "# data for training\r\n",
        "X = torch.tensor([[1],[2],[3],[4]],dtype=torch.float32)\r\n",
        "y = torch.tensor([[2],[4],[6],[8]],dtype=torch.float32)\r\n",
        "\r\n",
        "# for testing\r\n",
        "X_test = torch.tensor([5],dtype=torch.float32) # to be passed for testing model\r\n",
        "\r\n",
        "n_samples,n_features = X.shape\r\n",
        "print(n_samples,n_features)\r\n",
        "\r\n",
        "# w = torch.tensor(0.0,\r\n",
        "#                  dtype=torch.float32,\r\n",
        "#                  requires_grad=True)\r\n",
        "\r\n",
        "# model declaration: we need input_size,output_size\r\n",
        "input_size = n_features\r\n",
        "output_size = n_features\r\n",
        "\r\n",
        "# creating a custom NN model i.e. class inheriting nn.Module:\r\n",
        "\r\n",
        "class LinearRegression(nn.Module):\r\n",
        "    def __init__(self,input_size,output_size):\r\n",
        "        super(LinearRegression,self).__init__()\r\n",
        "        #define layers\r\n",
        "        self.Linear1 = nn.Linear(input_size,output_size)\r\n",
        "\r\n",
        "    def forward(self,x):\r\n",
        "        return self.Linear1(x)\r\n",
        "\r\n",
        "### model = nn.Linear(input_size,output_size) # single FC layer\r\n",
        "\r\n",
        "model = LinearRegression(input_size,output_size)\r\n",
        "\r\n",
        "print(f'prediction before training: f(5) = {model(X_test).item():.3f}') # passing a tensor to the model\r\n",
        "\r\n",
        "# training:\r\n",
        "learning_rate = 0.02\r\n",
        "n_epochs = 200\r\n",
        "\r\n",
        "# constructing loss (i.e. criterion) and optimizer\r\n",
        "\r\n",
        "criterion = nn.MSELoss() # MSE loss, for LinReg\r\n",
        "optimizer = torch.optim.SGD(params=model.parameters(),\r\n",
        "                            lr=learning_rate) # stochastic gradient descent\r\n",
        "\r\n",
        "for epoch in range(n_epochs):\r\n",
        "    # getting the model parameters\r\n",
        "    [w,b] = model.parameters()\r\n",
        "\r\n",
        "    # preds = = forward pass\r\n",
        "    y_pred = forward(X)\r\n",
        "\r\n",
        "    # loss - using defined criterion \r\n",
        "    loss = criterion(y_pred,y) \r\n",
        "\r\n",
        "    # gradients: using backward()\r\n",
        "    loss.backward() # dl/dw\r\n",
        "\r\n",
        "    # update weights: the gradients should not be updated ### w -= learning_rate * loss.grad\r\n",
        "    optimizer.step()\r\n",
        "\r\n",
        "    # make gradients = 0 ### w.grad.zero_()\r\n",
        "    optimizer.zero_grad()\r\n",
        "\r\n",
        "    if epoch % 10 == 0:\r\n",
        "        print(f'epoch {epoch*1}: w = {w[0][0].item():.3f},loss = {l:.8f}')\r\n",
        " \r\n",
        "print(f'prediction after training: f(5) = {model(X_test).item():.3f}') # passing tensor to model"
      ],
      "execution_count": null,
      "outputs": [
        {
          "output_type": "stream",
          "text": [
            "4 1\n",
            "prediction before training: f(5) = 2.018\n",
            "epoch 0: w = 0.782,loss = 0.00000363\n",
            "epoch 10: w = 1.966,loss = 0.00000363\n",
            "epoch 20: w = 1.999,loss = 0.00000363\n",
            "epoch 30: w = 2.000,loss = 0.00000363\n",
            "epoch 40: w = 2.000,loss = 0.00000363\n",
            "epoch 50: w = 2.000,loss = 0.00000363\n",
            "epoch 60: w = 2.000,loss = 0.00000363\n",
            "epoch 70: w = 2.000,loss = 0.00000363\n",
            "epoch 80: w = 2.000,loss = 0.00000363\n",
            "epoch 90: w = 2.000,loss = 0.00000363\n",
            "epoch 100: w = 2.000,loss = 0.00000363\n",
            "epoch 110: w = 2.000,loss = 0.00000363\n",
            "epoch 120: w = 2.000,loss = 0.00000363\n",
            "epoch 130: w = 2.000,loss = 0.00000363\n",
            "epoch 140: w = 2.000,loss = 0.00000363\n",
            "epoch 150: w = 2.000,loss = 0.00000363\n",
            "epoch 160: w = 2.000,loss = 0.00000363\n",
            "epoch 170: w = 2.000,loss = 0.00000363\n",
            "epoch 180: w = 2.000,loss = 0.00000363\n",
            "epoch 190: w = 2.000,loss = 0.00000363\n",
            "prediction after training: f(5) = 10.721\n"
          ],
          "name": "stdout"
        }
      ]
    },
    {
      "cell_type": "markdown",
      "metadata": {
        "id": "mUjTHpokWzM5"
      },
      "source": [
        "### Linear Regression practical using Pytorch and standard dataset"
      ]
    },
    {
      "cell_type": "code",
      "metadata": {
        "colab": {
          "base_uri": "https://localhost:8080/",
          "height": 468
        },
        "id": "IkehH2iQRWVD",
        "outputId": "ccba0510-fc15-427b-a6f3-f1e080a302ca"
      },
      "source": [
        "'''\r\n",
        "pipeline:\r\n",
        "\r\n",
        "1) design model (input_size,output_size,forward_pass)\r\n",
        "2) construct loss and optimizer\r\n",
        "3) training loop over n_epochs:\r\n",
        "    - forward pass: compute predictions\r\n",
        "    - backward pass: compute gradients\r\n",
        "    - update weights\r\n",
        "\r\n",
        "'''\r\n",
        "\r\n",
        "from sklearn import datasets\r\n",
        "import matplotlib.pyplot as plt\r\n",
        "\r\n",
        "# preparing dataset\r\n",
        "X_npy, y_npy = datasets.make_regression(n_samples=100,\r\n",
        "                                        n_features=1,\r\n",
        "                                        noise=20,\r\n",
        "                                        random_state=1)\r\n",
        "\r\n",
        "# convert to tensor\r\n",
        "X = torch.from_numpy(X_npy.astype(np.float32))\r\n",
        "y = torch.from_numpy(y_npy.astype(np.float32))\r\n",
        "\r\n",
        "y = y.view(y.shape[0],1) # reshape to column tensor\r\n",
        "\r\n",
        "n_samples, n_features = X.shape\r\n",
        "print(f'Nos of samples = {n_samples} \\n Nos of features = {n_features}')\r\n",
        "\r\n",
        "# 1) model declaration\r\n",
        "input_size = n_features\r\n",
        "output_size = 1\r\n",
        "\r\n",
        "model = nn.Linear(input_size,output_size) \r\n",
        "\r\n",
        "# 2) loss and optimizer\r\n",
        "criterion = nn.MSELoss()\r\n",
        "optimizer = torch.optim.SGD(model.parameters(),lr=0.01)\r\n",
        "\r\n",
        "# 3) training loop\r\n",
        "n_epochs = 100\r\n",
        "\r\n",
        "for epoch in range(n_epochs):\r\n",
        "    # (i) forward pass and loss\r\n",
        "    y_predicted = model(X)\r\n",
        "    loss = criterion(y_predicted,y)\r\n",
        "\r\n",
        "    # (ii) backward pass - gradients\r\n",
        "    loss.backward()\r\n",
        "    \r\n",
        "    # (iii) update\r\n",
        "    optimizer.step()\r\n",
        "    optimizer.zero_grad()\r\n",
        "\r\n",
        "    if epoch % 10 == 0:\r\n",
        "        print(f'Epoch: {epoch},loss = {loss.item():.6f}')\r\n",
        "\r\n",
        "\r\n",
        "predicted = model(X).detach().numpy() # removing from computation graph s.t. requires_grads=False\r\n",
        "\r\n",
        "# plotting predictions\r\n",
        "plt.plot(X_npy,y_npy,'ro')\r\n",
        "plt.plot(X_npy,predicted,'b')\r\n",
        "plt.show()"
      ],
      "execution_count": null,
      "outputs": [
        {
          "output_type": "stream",
          "text": [
            "Nos of samples = 100 \n",
            " Nos of features = 1\n",
            "Epoch: 0,loss = 5876.020508\n",
            "Epoch: 10,loss = 4349.300781\n",
            "Epoch: 20,loss = 3245.851562\n",
            "Epoch: 30,loss = 2447.410889\n",
            "Epoch: 40,loss = 1869.056885\n",
            "Epoch: 50,loss = 1449.708740\n",
            "Epoch: 60,loss = 1145.375122\n",
            "Epoch: 70,loss = 924.325134\n",
            "Epoch: 80,loss = 763.643066\n",
            "Epoch: 90,loss = 646.759583\n"
          ],
          "name": "stdout"
        },
        {
          "output_type": "display_data",
          "data": {
            "image/png": "[encoded data removed]",
            "text/plain": [
              "<Figure size 432x288 with 1 Axes>"
            ]
          },
          "metadata": {
            "tags": [],
            "needs_background": "light"
          }
        }
      ]
    },
    {
      "cell_type": "markdown",
      "metadata": {
        "id": "tjtHiNy5asr5"
      },
      "source": [
        "### Binary classification practical using Pytorch and standard scikit dataset"
      ]
    },
    {
      "cell_type": "code",
      "metadata": {
        "colab": {
          "base_uri": "https://localhost:8080/"
        },
        "id": "QhPbN_2rRWTp",
        "outputId": "b125020d-c354-4bb7-810c-3d9528c90e3e"
      },
      "source": [
        "# similar to LinearRegression, only changes to be made in model and criterion\r\n",
        "\r\n",
        "from sklearn.preprocessing import StandardScaler\r\n",
        "from sklearn.model_selection import train_test_split\r\n",
        "\r\n",
        "# prepare data - load preloaded dataset from scikit-learn\r\n",
        "dataset = datasets.load_breast_cancer()\r\n",
        "\r\n",
        "X,y = dataset.data, dataset.target # numpy arrays\r\n",
        "\r\n",
        "n_samples, n_features = X.shape\r\n",
        "\r\n",
        "X_train,X_test,y_train,y_test = train_test_split(X,y,test_size=0.2,random_state=2)\r\n",
        "\r\n",
        "# normalization (preprocessing data)\r\n",
        "sc = StandardScaler()\r\n",
        "X_train = sc.fit_transform(X_train)\r\n",
        "X_test = sc.fit_transform(X_test)\r\n",
        "\r\n",
        "# convert to tensors\r\n",
        "X_train = torch.from_numpy(X_train.astype(np.float32))\r\n",
        "X_test = torch.from_numpy(X_test.astype(np.float32))\r\n",
        "y_train = torch.from_numpy(y_train.astype(np.float32))\r\n",
        "y_test = torch.from_numpy(y_test.astype(np.float32))\r\n",
        "\r\n",
        "# reshape target labels to a column tensor\r\n",
        "y_train = y_train.view(y_train.shape[0],1)\r\n",
        "y_test = y_test.view(y_test.shape[0],1)\r\n",
        "\r\n",
        "# 1) define model\r\n",
        "class Classifier(nn.Module):\r\n",
        "    def __init__(self,n_input_features):\r\n",
        "        super(Classifier,self).__init__()\r\n",
        "        self.Linear = nn.Linear(n_input_features,1)\r\n",
        "\r\n",
        "    def forward(self,x):\r\n",
        "        y_predicted = torch.sigmoid(self.Linear(x))\r\n",
        "        return y_predicted\r\n",
        "\r\n",
        "model = Classifier(n_features)\r\n",
        "\r\n",
        "# 2) criterion and optimizer\r\n",
        "criterion = nn.BCELoss() # binary_crossentropy_loss\r\n",
        "optimizer = torch.optim.Adam(model.parameters(),lr=0.01)\r\n",
        "\r\n",
        "# 3) training loop\r\n",
        "num_epochs = 500\r\n",
        "\r\n",
        "for epoch in range(num_epochs):\r\n",
        "    # (i) forward pass and loss\r\n",
        "    y_predicted = model(X_train)\r\n",
        "    loss = criterion(y_predicted,y_train)\r\n",
        "\r\n",
        "    # (ii) backward pass\r\n",
        "    loss.backward()\r\n",
        "\r\n",
        "    # (iii) update parameters\r\n",
        "    optimizer.step()\r\n",
        "    optimizer.zero_grad()\r\n",
        "\r\n",
        "    if (epoch+1) % 10 == 0:\r\n",
        "        print(f'Epoch: {epoch+1}, loss = {loss.item():.6f}')\r\n",
        "\r\n",
        "\r\n",
        "# evaluation of model - need not track gradient history, hence torch.no_grad() is used\r\n",
        "with torch.no_grad():\r\n",
        "    y_predicted = model(X_test)\r\n",
        "    y_predicted_cls = y_predicted.round() # >0.5 => 1 else 0\r\n",
        "    correct = y_predicted_cls.eq(y_test).sum() # each correct pred => adds 1\r\n",
        "    accuracy = correct/float(y_test.shape[0]) \r\n",
        "    print(f'Accuracy on test data = {accuracy:.4f}')\r\n"
      ],
      "execution_count": null,
      "outputs": [
        {
          "output_type": "stream",
          "text": [
            "Epoch: 10, loss = 0.436395\n",
            "Epoch: 20, loss = 0.263768\n",
            "Epoch: 30, loss = 0.196911\n",
            "Epoch: 40, loss = 0.162123\n",
            "Epoch: 50, loss = 0.141761\n",
            "Epoch: 60, loss = 0.128666\n",
            "Epoch: 70, loss = 0.119357\n",
            "Epoch: 80, loss = 0.112245\n",
            "Epoch: 90, loss = 0.106558\n",
            "Epoch: 100, loss = 0.101854\n",
            "Epoch: 110, loss = 0.097867\n",
            "Epoch: 120, loss = 0.094427\n",
            "Epoch: 130, loss = 0.091420\n",
            "Epoch: 140, loss = 0.088765\n",
            "Epoch: 150, loss = 0.086399\n",
            "Epoch: 160, loss = 0.084275\n",
            "Epoch: 170, loss = 0.082356\n",
            "Epoch: 180, loss = 0.080611\n",
            "Epoch: 190, loss = 0.079017\n",
            "Epoch: 200, loss = 0.077555\n",
            "Epoch: 210, loss = 0.076207\n",
            "Epoch: 220, loss = 0.074961\n",
            "Epoch: 230, loss = 0.073804\n",
            "Epoch: 240, loss = 0.072727\n",
            "Epoch: 250, loss = 0.071722\n",
            "Epoch: 260, loss = 0.070781\n",
            "Epoch: 270, loss = 0.069898\n",
            "Epoch: 280, loss = 0.069068\n",
            "Epoch: 290, loss = 0.068286\n",
            "Epoch: 300, loss = 0.067548\n",
            "Epoch: 310, loss = 0.066849\n",
            "Epoch: 320, loss = 0.066187\n",
            "Epoch: 330, loss = 0.065559\n",
            "Epoch: 340, loss = 0.064962\n",
            "Epoch: 350, loss = 0.064393\n",
            "Epoch: 360, loss = 0.063851\n",
            "Epoch: 370, loss = 0.063333\n",
            "Epoch: 380, loss = 0.062838\n",
            "Epoch: 390, loss = 0.062364\n",
            "Epoch: 400, loss = 0.061910\n",
            "Epoch: 410, loss = 0.061474\n",
            "Epoch: 420, loss = 0.061055\n",
            "Epoch: 430, loss = 0.060653\n",
            "Epoch: 440, loss = 0.060265\n",
            "Epoch: 450, loss = 0.059891\n",
            "Epoch: 460, loss = 0.059530\n",
            "Epoch: 470, loss = 0.059182\n",
            "Epoch: 480, loss = 0.058845\n",
            "Epoch: 490, loss = 0.058520\n",
            "Epoch: 500, loss = 0.058204\n",
            "Accuracy on test data = 0.9737\n"
          ],
          "name": "stdout"
        }
      ]
    },
    {
      "cell_type": "code",
      "metadata": {
        "id": "qFsVe-glhrxP"
      },
      "source": [
        ""
      ],
      "execution_count": null,
      "outputs": []
    }
  ]
}