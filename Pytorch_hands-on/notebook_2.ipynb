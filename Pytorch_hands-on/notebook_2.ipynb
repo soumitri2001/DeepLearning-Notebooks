{
  "nbformat": 4,
  "nbformat_minor": 0,
  "metadata": {
    "colab": {
      "name": "Pytorch_for_dummies_part 2.ipynb",
      "provenance": [],
      "collapsed_sections": []
    },
    "kernelspec": {
      "name": "python3",
      "display_name": "Python 3"
    },
    "accelerator": "GPU",
    "widgets": {
      "application/vnd.jupyter.widget-state+json": {
        "5d00e599096d41d3b9bf089d20016253": {
          "model_module": "@jupyter-widgets/controls",
          "model_name": "HBoxModel",
          "state": {
            "_view_name": "HBoxView",
            "_dom_classes": [],
            "_model_name": "HBoxModel",
            "_view_module": "@jupyter-widgets/controls",
            "_model_module_version": "1.5.0",
            "_view_count": null,
            "_view_module_version": "1.5.0",
            "box_style": "",
            "layout": "IPY_MODEL_86da1f647eef4383bcd097885440bcdf",
            "_model_module": "@jupyter-widgets/controls",
            "children": [
              "IPY_MODEL_a7ae03d6a8ec4883be74bb87deca0f9a",
              "IPY_MODEL_8fc4fa80ee6d407790955e00e7e2b978"
            ]
          }
        },
        "86da1f647eef4383bcd097885440bcdf": {
          "model_module": "@jupyter-widgets/base",
          "model_name": "LayoutModel",
          "state": {
            "_view_name": "LayoutView",
            "grid_template_rows": null,
            "right": null,
            "justify_content": null,
            "_view_module": "@jupyter-widgets/base",
            "overflow": null,
            "_model_module_version": "1.2.0",
            "_view_count": null,
            "flex_flow": null,
            "width": null,
            "min_width": null,
            "border": null,
            "align_items": null,
            "bottom": null,
            "_model_module": "@jupyter-widgets/base",
            "top": null,
            "grid_column": null,
            "overflow_y": null,
            "overflow_x": null,
            "grid_auto_flow": null,
            "grid_area": null,
            "grid_template_columns": null,
            "flex": null,
            "_model_name": "LayoutModel",
            "justify_items": null,
            "grid_row": null,
            "max_height": null,
            "align_content": null,
            "visibility": null,
            "align_self": null,
            "height": null,
            "min_height": null,
            "padding": null,
            "grid_auto_rows": null,
            "grid_gap": null,
            "max_width": null,
            "order": null,
            "_view_module_version": "1.2.0",
            "grid_template_areas": null,
            "object_position": null,
            "object_fit": null,
            "grid_auto_columns": null,
            "margin": null,
            "display": null,
            "left": null
          }
        },
        "a7ae03d6a8ec4883be74bb87deca0f9a": {
          "model_module": "@jupyter-widgets/controls",
          "model_name": "FloatProgressModel",
          "state": {
            "_view_name": "ProgressView",
            "style": "IPY_MODEL_c4fc69724cc54cfaaa0b49d674f3772d",
            "_dom_classes": [],
            "description": "",
            "_model_name": "FloatProgressModel",
            "bar_style": "info",
            "max": 1,
            "_view_module": "@jupyter-widgets/controls",
            "_model_module_version": "1.5.0",
            "value": 1,
            "_view_count": null,
            "_view_module_version": "1.5.0",
            "orientation": "horizontal",
            "min": 0,
            "description_tooltip": null,
            "_model_module": "@jupyter-widgets/controls",
            "layout": "IPY_MODEL_8a9c389db7f4490ea48abd5d0dae8d68"
          }
        },
        "8fc4fa80ee6d407790955e00e7e2b978": {
          "model_module": "@jupyter-widgets/controls",
          "model_name": "HTMLModel",
          "state": {
            "_view_name": "HTMLView",
            "style": "IPY_MODEL_b453a6f49a2244f7a7191d2b2e59b548",
            "_dom_classes": [],
            "description": "",
            "_model_name": "HTMLModel",
            "placeholder": "​",
            "_view_module": "@jupyter-widgets/controls",
            "_model_module_version": "1.5.0",
            "value": " 9920512/? [00:19&lt;00:00, 1618836.89it/s]",
            "_view_count": null,
            "_view_module_version": "1.5.0",
            "description_tooltip": null,
            "_model_module": "@jupyter-widgets/controls",
            "layout": "IPY_MODEL_c7f7a0916979458d8a3fd0c70d8120f2"
          }
        },
        "c4fc69724cc54cfaaa0b49d674f3772d": {
          "model_module": "@jupyter-widgets/controls",
          "model_name": "ProgressStyleModel",
          "state": {
            "_view_name": "StyleView",
            "_model_name": "ProgressStyleModel",
            "description_width": "initial",
            "_view_module": "@jupyter-widgets/base",
            "_model_module_version": "1.5.0",
            "_view_count": null,
            "_view_module_version": "1.2.0",
            "bar_color": null,
            "_model_module": "@jupyter-widgets/controls"
          }
        },
        "8a9c389db7f4490ea48abd5d0dae8d68": {
          "model_module": "@jupyter-widgets/base",
          "model_name": "LayoutModel",
          "state": {
            "_view_name": "LayoutView",
            "grid_template_rows": null,
            "right": null,
            "justify_content": null,
            "_view_module": "@jupyter-widgets/base",
            "overflow": null,
            "_model_module_version": "1.2.0",
            "_view_count": null,
            "flex_flow": null,
            "width": null,
            "min_width": null,
            "border": null,
            "align_items": null,
            "bottom": null,
            "_model_module": "@jupyter-widgets/base",
            "top": null,
            "grid_column": null,
            "overflow_y": null,
            "overflow_x": null,
            "grid_auto_flow": null,
            "grid_area": null,
            "grid_template_columns": null,
            "flex": null,
            "_model_name": "LayoutModel",
            "justify_items": null,
            "grid_row": null,
            "max_height": null,
            "align_content": null,
            "visibility": null,
            "align_self": null,
            "height": null,
            "min_height": null,
            "padding": null,
            "grid_auto_rows": null,
            "grid_gap": null,
            "max_width": null,
            "order": null,
            "_view_module_version": "1.2.0",
            "grid_template_areas": null,
            "object_position": null,
            "object_fit": null,
            "grid_auto_columns": null,
            "margin": null,
            "display": null,
            "left": null
          }
        },
        "b453a6f49a2244f7a7191d2b2e59b548": {
          "model_module": "@jupyter-widgets/controls",
          "model_name": "DescriptionStyleModel",
          "state": {
            "_view_name": "StyleView",
            "_model_name": "DescriptionStyleModel",
            "description_width": "",
            "_view_module": "@jupyter-widgets/base",
            "_model_module_version": "1.5.0",
            "_view_count": null,
            "_view_module_version": "1.2.0",
            "_model_module": "@jupyter-widgets/controls"
          }
        },
        "c7f7a0916979458d8a3fd0c70d8120f2": {
          "model_module": "@jupyter-widgets/base",
          "model_name": "LayoutModel",
          "state": {
            "_view_name": "LayoutView",
            "grid_template_rows": null,
            "right": null,
            "justify_content": null,
            "_view_module": "@jupyter-widgets/base",
            "overflow": null,
            "_model_module_version": "1.2.0",
            "_view_count": null,
            "flex_flow": null,
            "width": null,
            "min_width": null,
            "border": null,
            "align_items": null,
            "bottom": null,
            "_model_module": "@jupyter-widgets/base",
            "top": null,
            "grid_column": null,
            "overflow_y": null,
            "overflow_x": null,
            "grid_auto_flow": null,
            "grid_area": null,
            "grid_template_columns": null,
            "flex": null,
            "_model_name": "LayoutModel",
            "justify_items": null,
            "grid_row": null,
            "max_height": null,
            "align_content": null,
            "visibility": null,
            "align_self": null,
            "height": null,
            "min_height": null,
            "padding": null,
            "grid_auto_rows": null,
            "grid_gap": null,
            "max_width": null,
            "order": null,
            "_view_module_version": "1.2.0",
            "grid_template_areas": null,
            "object_position": null,
            "object_fit": null,
            "grid_auto_columns": null,
            "margin": null,
            "display": null,
            "left": null
          }
        },
        "088b50f2c9314a08a557f633c6a7297f": {
          "model_module": "@jupyter-widgets/controls",
          "model_name": "HBoxModel",
          "state": {
            "_view_name": "HBoxView",
            "_dom_classes": [],
            "_model_name": "HBoxModel",
            "_view_module": "@jupyter-widgets/controls",
            "_model_module_version": "1.5.0",
            "_view_count": null,
            "_view_module_version": "1.5.0",
            "box_style": "",
            "layout": "IPY_MODEL_2dcdf4f0a64241a2993a4e13482c7d61",
            "_model_module": "@jupyter-widgets/controls",
            "children": [
              "IPY_MODEL_d2e6255496274555a48f43751ba57d9e",
              "IPY_MODEL_2b97bb1ba8e84acf9bdc77e8e266ffd6"
            ]
          }
        },
        "2dcdf4f0a64241a2993a4e13482c7d61": {
          "model_module": "@jupyter-widgets/base",
          "model_name": "LayoutModel",
          "state": {
            "_view_name": "LayoutView",
            "grid_template_rows": null,
            "right": null,
            "justify_content": null,
            "_view_module": "@jupyter-widgets/base",
            "overflow": null,
            "_model_module_version": "1.2.0",
            "_view_count": null,
            "flex_flow": null,
            "width": null,
            "min_width": null,
            "border": null,
            "align_items": null,
            "bottom": null,
            "_model_module": "@jupyter-widgets/base",
            "top": null,
            "grid_column": null,
            "overflow_y": null,
            "overflow_x": null,
            "grid_auto_flow": null,
            "grid_area": null,
            "grid_template_columns": null,
            "flex": null,
            "_model_name": "LayoutModel",
            "justify_items": null,
            "grid_row": null,
            "max_height": null,
            "align_content": null,
            "visibility": null,
            "align_self": null,
            "height": null,
            "min_height": null,
            "padding": null,
            "grid_auto_rows": null,
            "grid_gap": null,
            "max_width": null,
            "order": null,
            "_view_module_version": "1.2.0",
            "grid_template_areas": null,
            "object_position": null,
            "object_fit": null,
            "grid_auto_columns": null,
            "margin": null,
            "display": null,
            "left": null
          }
        },
        "d2e6255496274555a48f43751ba57d9e": {
          "model_module": "@jupyter-widgets/controls",
          "model_name": "FloatProgressModel",
          "state": {
            "_view_name": "ProgressView",
            "style": "IPY_MODEL_cbeb0d259d0442d084503ae5752d900c",
            "_dom_classes": [],
            "description": "",
            "_model_name": "FloatProgressModel",
            "bar_style": "success",
            "max": 1,
            "_view_module": "@jupyter-widgets/controls",
            "_model_module_version": "1.5.0",
            "value": 1,
            "_view_count": null,
            "_view_module_version": "1.5.0",
            "orientation": "horizontal",
            "min": 0,
            "description_tooltip": null,
            "_model_module": "@jupyter-widgets/controls",
            "layout": "IPY_MODEL_3b6926c6085442b3b88ac55936b43302"
          }
        },
        "2b97bb1ba8e84acf9bdc77e8e266ffd6": {
          "model_module": "@jupyter-widgets/controls",
          "model_name": "HTMLModel",
          "state": {
            "_view_name": "HTMLView",
            "style": "IPY_MODEL_c6b4d0673ee34632b62defe75acc661d",
            "_dom_classes": [],
            "description": "",
            "_model_name": "HTMLModel",
            "placeholder": "​",
            "_view_module": "@jupyter-widgets/controls",
            "_model_module_version": "1.5.0",
            "value": " 32768/? [00:00&lt;00:00, 163087.38it/s]",
            "_view_count": null,
            "_view_module_version": "1.5.0",
            "description_tooltip": null,
            "_model_module": "@jupyter-widgets/controls",
            "layout": "IPY_MODEL_ed32e6abb74444c4ae900d7425141e23"
          }
        },
        "cbeb0d259d0442d084503ae5752d900c": {
          "model_module": "@jupyter-widgets/controls",
          "model_name": "ProgressStyleModel",
          "state": {
            "_view_name": "StyleView",
            "_model_name": "ProgressStyleModel",
            "description_width": "initial",
            "_view_module": "@jupyter-widgets/base",
            "_model_module_version": "1.5.0",
            "_view_count": null,
            "_view_module_version": "1.2.0",
            "bar_color": null,
            "_model_module": "@jupyter-widgets/controls"
          }
        },
        "3b6926c6085442b3b88ac55936b43302": {
          "model_module": "@jupyter-widgets/base",
          "model_name": "LayoutModel",
          "state": {
            "_view_name": "LayoutView",
            "grid_template_rows": null,
            "right": null,
            "justify_content": null,
            "_view_module": "@jupyter-widgets/base",
            "overflow": null,
            "_model_module_version": "1.2.0",
            "_view_count": null,
            "flex_flow": null,
            "width": null,
            "min_width": null,
            "border": null,
            "align_items": null,
            "bottom": null,
            "_model_module": "@jupyter-widgets/base",
            "top": null,
            "grid_column": null,
            "overflow_y": null,
            "overflow_x": null,
            "grid_auto_flow": null,
            "grid_area": null,
            "grid_template_columns": null,
            "flex": null,
            "_model_name": "LayoutModel",
            "justify_items": null,
            "grid_row": null,
            "max_height": null,
            "align_content": null,
            "visibility": null,
            "align_self": null,
            "height": null,
            "min_height": null,
            "padding": null,
            "grid_auto_rows": null,
            "grid_gap": null,
            "max_width": null,
            "order": null,
            "_view_module_version": "1.2.0",
            "grid_template_areas": null,
            "object_position": null,
            "object_fit": null,
            "grid_auto_columns": null,
            "margin": null,
            "display": null,
            "left": null
          }
        },
        "c6b4d0673ee34632b62defe75acc661d": {
          "model_module": "@jupyter-widgets/controls",
          "model_name": "DescriptionStyleModel",
          "state": {
            "_view_name": "StyleView",
            "_model_name": "DescriptionStyleModel",
            "description_width": "",
            "_view_module": "@jupyter-widgets/base",
            "_model_module_version": "1.5.0",
            "_view_count": null,
            "_view_module_version": "1.2.0",
            "_model_module": "@jupyter-widgets/controls"
          }
        },
        "ed32e6abb74444c4ae900d7425141e23": {
          "model_module": "@jupyter-widgets/base",
          "model_name": "LayoutModel",
          "state": {
            "_view_name": "LayoutView",
            "grid_template_rows": null,
            "right": null,
            "justify_content": null,
            "_view_module": "@jupyter-widgets/base",
            "overflow": null,
            "_model_module_version": "1.2.0",
            "_view_count": null,
            "flex_flow": null,
            "width": null,
            "min_width": null,
            "border": null,
            "align_items": null,
            "bottom": null,
            "_model_module": "@jupyter-widgets/base",
            "top": null,
            "grid_column": null,
            "overflow_y": null,
            "overflow_x": null,
            "grid_auto_flow": null,
            "grid_area": null,
            "grid_template_columns": null,
            "flex": null,
            "_model_name": "LayoutModel",
            "justify_items": null,
            "grid_row": null,
            "max_height": null,
            "align_content": null,
            "visibility": null,
            "align_self": null,
            "height": null,
            "min_height": null,
            "padding": null,
            "grid_auto_rows": null,
            "grid_gap": null,
            "max_width": null,
            "order": null,
            "_view_module_version": "1.2.0",
            "grid_template_areas": null,
            "object_position": null,
            "object_fit": null,
            "grid_auto_columns": null,
            "margin": null,
            "display": null,
            "left": null
          }
        },
        "28ef063b70f3434a87f820b53a655f52": {
          "model_module": "@jupyter-widgets/controls",
          "model_name": "HBoxModel",
          "state": {
            "_view_name": "HBoxView",
            "_dom_classes": [],
            "_model_name": "HBoxModel",
            "_view_module": "@jupyter-widgets/controls",
            "_model_module_version": "1.5.0",
            "_view_count": null,
            "_view_module_version": "1.5.0",
            "box_style": "",
            "layout": "IPY_MODEL_b15b904ac3de49c3bbe1214e18d7ec64",
            "_model_module": "@jupyter-widgets/controls",
            "children": [
              "IPY_MODEL_3695e395eb50422789a6de406ec35107",
              "IPY_MODEL_f19c8f15f6124534a748c7395d624339"
            ]
          }
        },
        "b15b904ac3de49c3bbe1214e18d7ec64": {
          "model_module": "@jupyter-widgets/base",
          "model_name": "LayoutModel",
          "state": {
            "_view_name": "LayoutView",
            "grid_template_rows": null,
            "right": null,
            "justify_content": null,
            "_view_module": "@jupyter-widgets/base",
            "overflow": null,
            "_model_module_version": "1.2.0",
            "_view_count": null,
            "flex_flow": null,
            "width": null,
            "min_width": null,
            "border": null,
            "align_items": null,
            "bottom": null,
            "_model_module": "@jupyter-widgets/base",
            "top": null,
            "grid_column": null,
            "overflow_y": null,
            "overflow_x": null,
            "grid_auto_flow": null,
            "grid_area": null,
            "grid_template_columns": null,
            "flex": null,
            "_model_name": "LayoutModel",
            "justify_items": null,
            "grid_row": null,
            "max_height": null,
            "align_content": null,
            "visibility": null,
            "align_self": null,
            "height": null,
            "min_height": null,
            "padding": null,
            "grid_auto_rows": null,
            "grid_gap": null,
            "max_width": null,
            "order": null,
            "_view_module_version": "1.2.0",
            "grid_template_areas": null,
            "object_position": null,
            "object_fit": null,
            "grid_auto_columns": null,
            "margin": null,
            "display": null,
            "left": null
          }
        },
        "3695e395eb50422789a6de406ec35107": {
          "model_module": "@jupyter-widgets/controls",
          "model_name": "FloatProgressModel",
          "state": {
            "_view_name": "ProgressView",
            "style": "IPY_MODEL_a62da30c15a44518b7ef208a8895944e",
            "_dom_classes": [],
            "description": "",
            "_model_name": "FloatProgressModel",
            "bar_style": "info",
            "max": 1,
            "_view_module": "@jupyter-widgets/controls",
            "_model_module_version": "1.5.0",
            "value": 1,
            "_view_count": null,
            "_view_module_version": "1.5.0",
            "orientation": "horizontal",
            "min": 0,
            "description_tooltip": null,
            "_model_module": "@jupyter-widgets/controls",
            "layout": "IPY_MODEL_8d2867e348f047668970bd895855e27b"
          }
        },
        "f19c8f15f6124534a748c7395d624339": {
          "model_module": "@jupyter-widgets/controls",
          "model_name": "HTMLModel",
          "state": {
            "_view_name": "HTMLView",
            "style": "IPY_MODEL_18860ec0f0574203a2baf1634554bc09",
            "_dom_classes": [],
            "description": "",
            "_model_name": "HTMLModel",
            "placeholder": "​",
            "_view_module": "@jupyter-widgets/controls",
            "_model_module_version": "1.5.0",
            "value": " 1654784/? [00:18&lt;00:00, 2096935.55it/s]",
            "_view_count": null,
            "_view_module_version": "1.5.0",
            "description_tooltip": null,
            "_model_module": "@jupyter-widgets/controls",
            "layout": "IPY_MODEL_8d61e10845de42f8b29571a11949925f"
          }
        },
        "a62da30c15a44518b7ef208a8895944e": {
          "model_module": "@jupyter-widgets/controls",
          "model_name": "ProgressStyleModel",
          "state": {
            "_view_name": "StyleView",
            "_model_name": "ProgressStyleModel",
            "description_width": "initial",
            "_view_module": "@jupyter-widgets/base",
            "_model_module_version": "1.5.0",
            "_view_count": null,
            "_view_module_version": "1.2.0",
            "bar_color": null,
            "_model_module": "@jupyter-widgets/controls"
          }
        },
        "8d2867e348f047668970bd895855e27b": {
          "model_module": "@jupyter-widgets/base",
          "model_name": "LayoutModel",
          "state": {
            "_view_name": "LayoutView",
            "grid_template_rows": null,
            "right": null,
            "justify_content": null,
            "_view_module": "@jupyter-widgets/base",
            "overflow": null,
            "_model_module_version": "1.2.0",
            "_view_count": null,
            "flex_flow": null,
            "width": null,
            "min_width": null,
            "border": null,
            "align_items": null,
            "bottom": null,
            "_model_module": "@jupyter-widgets/base",
            "top": null,
            "grid_column": null,
            "overflow_y": null,
            "overflow_x": null,
            "grid_auto_flow": null,
            "grid_area": null,
            "grid_template_columns": null,
            "flex": null,
            "_model_name": "LayoutModel",
            "justify_items": null,
            "grid_row": null,
            "max_height": null,
            "align_content": null,
            "visibility": null,
            "align_self": null,
            "height": null,
            "min_height": null,
            "padding": null,
            "grid_auto_rows": null,
            "grid_gap": null,
            "max_width": null,
            "order": null,
            "_view_module_version": "1.2.0",
            "grid_template_areas": null,
            "object_position": null,
            "object_fit": null,
            "grid_auto_columns": null,
            "margin": null,
            "display": null,
            "left": null
          }
        },
        "18860ec0f0574203a2baf1634554bc09": {
          "model_module": "@jupyter-widgets/controls",
          "model_name": "DescriptionStyleModel",
          "state": {
            "_view_name": "StyleView",
            "_model_name": "DescriptionStyleModel",
            "description_width": "",
            "_view_module": "@jupyter-widgets/base",
            "_model_module_version": "1.5.0",
            "_view_count": null,
            "_view_module_version": "1.2.0",
            "_model_module": "@jupyter-widgets/controls"
          }
        },
        "8d61e10845de42f8b29571a11949925f": {
          "model_module": "@jupyter-widgets/base",
          "model_name": "LayoutModel",
          "state": {
            "_view_name": "LayoutView",
            "grid_template_rows": null,
            "right": null,
            "justify_content": null,
            "_view_module": "@jupyter-widgets/base",
            "overflow": null,
            "_model_module_version": "1.2.0",
            "_view_count": null,
            "flex_flow": null,
            "width": null,
            "min_width": null,
            "border": null,
            "align_items": null,
            "bottom": null,
            "_model_module": "@jupyter-widgets/base",
            "top": null,
            "grid_column": null,
            "overflow_y": null,
            "overflow_x": null,
            "grid_auto_flow": null,
            "grid_area": null,
            "grid_template_columns": null,
            "flex": null,
            "_model_name": "LayoutModel",
            "justify_items": null,
            "grid_row": null,
            "max_height": null,
            "align_content": null,
            "visibility": null,
            "align_self": null,
            "height": null,
            "min_height": null,
            "padding": null,
            "grid_auto_rows": null,
            "grid_gap": null,
            "max_width": null,
            "order": null,
            "_view_module_version": "1.2.0",
            "grid_template_areas": null,
            "object_position": null,
            "object_fit": null,
            "grid_auto_columns": null,
            "margin": null,
            "display": null,
            "left": null
          }
        },
        "159cc339942c4f7689d9fb96f65eca98": {
          "model_module": "@jupyter-widgets/controls",
          "model_name": "HBoxModel",
          "state": {
            "_view_name": "HBoxView",
            "_dom_classes": [],
            "_model_name": "HBoxModel",
            "_view_module": "@jupyter-widgets/controls",
            "_model_module_version": "1.5.0",
            "_view_count": null,
            "_view_module_version": "1.5.0",
            "box_style": "",
            "layout": "IPY_MODEL_2741079a99e64e43b5036f62cbece090",
            "_model_module": "@jupyter-widgets/controls",
            "children": [
              "IPY_MODEL_fd302621561249e4b2c6019c5496932b",
              "IPY_MODEL_2af98620fb784a24b7e7a4a0a5d22762"
            ]
          }
        },
        "2741079a99e64e43b5036f62cbece090": {
          "model_module": "@jupyter-widgets/base",
          "model_name": "LayoutModel",
          "state": {
            "_view_name": "LayoutView",
            "grid_template_rows": null,
            "right": null,
            "justify_content": null,
            "_view_module": "@jupyter-widgets/base",
            "overflow": null,
            "_model_module_version": "1.2.0",
            "_view_count": null,
            "flex_flow": null,
            "width": null,
            "min_width": null,
            "border": null,
            "align_items": null,
            "bottom": null,
            "_model_module": "@jupyter-widgets/base",
            "top": null,
            "grid_column": null,
            "overflow_y": null,
            "overflow_x": null,
            "grid_auto_flow": null,
            "grid_area": null,
            "grid_template_columns": null,
            "flex": null,
            "_model_name": "LayoutModel",
            "justify_items": null,
            "grid_row": null,
            "max_height": null,
            "align_content": null,
            "visibility": null,
            "align_self": null,
            "height": null,
            "min_height": null,
            "padding": null,
            "grid_auto_rows": null,
            "grid_gap": null,
            "max_width": null,
            "order": null,
            "_view_module_version": "1.2.0",
            "grid_template_areas": null,
            "object_position": null,
            "object_fit": null,
            "grid_auto_columns": null,
            "margin": null,
            "display": null,
            "left": null
          }
        },
        "fd302621561249e4b2c6019c5496932b": {
          "model_module": "@jupyter-widgets/controls",
          "model_name": "FloatProgressModel",
          "state": {
            "_view_name": "ProgressView",
            "style": "IPY_MODEL_bfda8b7eadfb4cfca6ad7ec1333b84e9",
            "_dom_classes": [],
            "description": "  0%",
            "_model_name": "FloatProgressModel",
            "bar_style": "info",
            "max": 1,
            "_view_module": "@jupyter-widgets/controls",
            "_model_module_version": "1.5.0",
            "value": 0,
            "_view_count": null,
            "_view_module_version": "1.5.0",
            "orientation": "horizontal",
            "min": 0,
            "description_tooltip": null,
            "_model_module": "@jupyter-widgets/controls",
            "layout": "IPY_MODEL_25ddd874dc4e47aa86dd19a7b7314cf4"
          }
        },
        "2af98620fb784a24b7e7a4a0a5d22762": {
          "model_module": "@jupyter-widgets/controls",
          "model_name": "HTMLModel",
          "state": {
            "_view_name": "HTMLView",
            "style": "IPY_MODEL_461c5f20353841a3ad2a12f0ef550ab6",
            "_dom_classes": [],
            "description": "",
            "_model_name": "HTMLModel",
            "placeholder": "​",
            "_view_module": "@jupyter-widgets/controls",
            "_model_module_version": "1.5.0",
            "value": " 0/4542 [00:00&lt;?, ?it/s]",
            "_view_count": null,
            "_view_module_version": "1.5.0",
            "description_tooltip": null,
            "_model_module": "@jupyter-widgets/controls",
            "layout": "IPY_MODEL_43462ccd4d414e4f8b491ebdc434e52f"
          }
        },
        "bfda8b7eadfb4cfca6ad7ec1333b84e9": {
          "model_module": "@jupyter-widgets/controls",
          "model_name": "ProgressStyleModel",
          "state": {
            "_view_name": "StyleView",
            "_model_name": "ProgressStyleModel",
            "description_width": "initial",
            "_view_module": "@jupyter-widgets/base",
            "_model_module_version": "1.5.0",
            "_view_count": null,
            "_view_module_version": "1.2.0",
            "bar_color": null,
            "_model_module": "@jupyter-widgets/controls"
          }
        },
        "25ddd874dc4e47aa86dd19a7b7314cf4": {
          "model_module": "@jupyter-widgets/base",
          "model_name": "LayoutModel",
          "state": {
            "_view_name": "LayoutView",
            "grid_template_rows": null,
            "right": null,
            "justify_content": null,
            "_view_module": "@jupyter-widgets/base",
            "overflow": null,
            "_model_module_version": "1.2.0",
            "_view_count": null,
            "flex_flow": null,
            "width": null,
            "min_width": null,
            "border": null,
            "align_items": null,
            "bottom": null,
            "_model_module": "@jupyter-widgets/base",
            "top": null,
            "grid_column": null,
            "overflow_y": null,
            "overflow_x": null,
            "grid_auto_flow": null,
            "grid_area": null,
            "grid_template_columns": null,
            "flex": null,
            "_model_name": "LayoutModel",
            "justify_items": null,
            "grid_row": null,
            "max_height": null,
            "align_content": null,
            "visibility": null,
            "align_self": null,
            "height": null,
            "min_height": null,
            "padding": null,
            "grid_auto_rows": null,
            "grid_gap": null,
            "max_width": null,
            "order": null,
            "_view_module_version": "1.2.0",
            "grid_template_areas": null,
            "object_position": null,
            "object_fit": null,
            "grid_auto_columns": null,
            "margin": null,
            "display": null,
            "left": null
          }
        },
        "461c5f20353841a3ad2a12f0ef550ab6": {
          "model_module": "@jupyter-widgets/controls",
          "model_name": "DescriptionStyleModel",
          "state": {
            "_view_name": "StyleView",
            "_model_name": "DescriptionStyleModel",
            "description_width": "",
            "_view_module": "@jupyter-widgets/base",
            "_model_module_version": "1.5.0",
            "_view_count": null,
            "_view_module_version": "1.2.0",
            "_model_module": "@jupyter-widgets/controls"
          }
        },
        "43462ccd4d414e4f8b491ebdc434e52f": {
          "model_module": "@jupyter-widgets/base",
          "model_name": "LayoutModel",
          "state": {
            "_view_name": "LayoutView",
            "grid_template_rows": null,
            "right": null,
            "justify_content": null,
            "_view_module": "@jupyter-widgets/base",
            "overflow": null,
            "_model_module_version": "1.2.0",
            "_view_count": null,
            "flex_flow": null,
            "width": null,
            "min_width": null,
            "border": null,
            "align_items": null,
            "bottom": null,
            "_model_module": "@jupyter-widgets/base",
            "top": null,
            "grid_column": null,
            "overflow_y": null,
            "overflow_x": null,
            "grid_auto_flow": null,
            "grid_area": null,
            "grid_template_columns": null,
            "flex": null,
            "_model_name": "LayoutModel",
            "justify_items": null,
            "grid_row": null,
            "max_height": null,
            "align_content": null,
            "visibility": null,
            "align_self": null,
            "height": null,
            "min_height": null,
            "padding": null,
            "grid_auto_rows": null,
            "grid_gap": null,
            "max_width": null,
            "order": null,
            "_view_module_version": "1.2.0",
            "grid_template_areas": null,
            "object_position": null,
            "object_fit": null,
            "grid_auto_columns": null,
            "margin": null,
            "display": null,
            "left": null
          }
        }
      }
    }
  },
  "cells": [
    {
      "cell_type": "code",
      "metadata": {
        "id": "B8jIM0vovNxC"
      },
      "source": [
        "import numpy as np\r\n",
        "import math\r\n",
        "\r\n",
        "import torch\r\n",
        "import torch.nn as nn\r\n",
        "import torchvision\r\n",
        "from torch.utils.data import Dataset,DataLoader"
      ],
      "execution_count": 1,
      "outputs": []
    },
    {
      "cell_type": "code",
      "metadata": {
        "id": "yOGKYP4Ovf7R"
      },
      "source": [
        "DATA_URL = 'https://raw.githubusercontent.com/python-engineer/pytorchTutorial/master/data/wine/wine.csv'"
      ],
      "execution_count": 2,
      "outputs": []
    },
    {
      "cell_type": "code",
      "metadata": {
        "colab": {
          "base_uri": "https://localhost:8080/",
          "height": 214
        },
        "id": "xvFjOpbFyQDO",
        "outputId": "0cb18409-4abe-4dd6-a61c-2445fd876d64"
      },
      "source": [
        "import pandas as pd\r\n",
        "\r\n",
        "data_df = pd.read_csv(DATA_URL)\r\n",
        "data_df.head()"
      ],
      "execution_count": 3,
      "outputs": [
        {
          "output_type": "execute_result",
          "data": {
            "text/html": [
              "<div>\n",
              "<style scoped>\n",
              "    .dataframe tbody tr th:only-of-type {\n",
              "        vertical-align: middle;\n",
              "    }\n",
              "\n",
              "    .dataframe tbody tr th {\n",
              "        vertical-align: top;\n",
              "    }\n",
              "\n",
              "    .dataframe thead th {\n",
              "        text-align: right;\n",
              "    }\n",
              "</style>\n",
              "<table border=\"1\" class=\"dataframe\">\n",
              "  <thead>\n",
              "    <tr style=\"text-align: right;\">\n",
              "      <th></th>\n",
              "      <th>Wine</th>\n",
              "      <th>Alcohol</th>\n",
              "      <th>Malic.acid</th>\n",
              "      <th>Ash</th>\n",
              "      <th>Acl</th>\n",
              "      <th>Mg</th>\n",
              "      <th>Phenols</th>\n",
              "      <th>Flavanoids</th>\n",
              "      <th>Nonflavanoid.phenols</th>\n",
              "      <th>Proanth</th>\n",
              "      <th>Color.int</th>\n",
              "      <th>Hue</th>\n",
              "      <th>OD</th>\n",
              "      <th>Proline</th>\n",
              "    </tr>\n",
              "  </thead>\n",
              "  <tbody>\n",
              "    <tr>\n",
              "      <th>0</th>\n",
              "      <td>1</td>\n",
              "      <td>14.23</td>\n",
              "      <td>1.71</td>\n",
              "      <td>2.43</td>\n",
              "      <td>15.6</td>\n",
              "      <td>127</td>\n",
              "      <td>2.80</td>\n",
              "      <td>3.06</td>\n",
              "      <td>0.28</td>\n",
              "      <td>2.29</td>\n",
              "      <td>5.64</td>\n",
              "      <td>1.04</td>\n",
              "      <td>3.92</td>\n",
              "      <td>1065</td>\n",
              "    </tr>\n",
              "    <tr>\n",
              "      <th>1</th>\n",
              "      <td>1</td>\n",
              "      <td>13.20</td>\n",
              "      <td>1.78</td>\n",
              "      <td>2.14</td>\n",
              "      <td>11.2</td>\n",
              "      <td>100</td>\n",
              "      <td>2.65</td>\n",
              "      <td>2.76</td>\n",
              "      <td>0.26</td>\n",
              "      <td>1.28</td>\n",
              "      <td>4.38</td>\n",
              "      <td>1.05</td>\n",
              "      <td>3.40</td>\n",
              "      <td>1050</td>\n",
              "    </tr>\n",
              "    <tr>\n",
              "      <th>2</th>\n",
              "      <td>1</td>\n",
              "      <td>13.16</td>\n",
              "      <td>2.36</td>\n",
              "      <td>2.67</td>\n",
              "      <td>18.6</td>\n",
              "      <td>101</td>\n",
              "      <td>2.80</td>\n",
              "      <td>3.24</td>\n",
              "      <td>0.30</td>\n",
              "      <td>2.81</td>\n",
              "      <td>5.68</td>\n",
              "      <td>1.03</td>\n",
              "      <td>3.17</td>\n",
              "      <td>1185</td>\n",
              "    </tr>\n",
              "    <tr>\n",
              "      <th>3</th>\n",
              "      <td>1</td>\n",
              "      <td>14.37</td>\n",
              "      <td>1.95</td>\n",
              "      <td>2.50</td>\n",
              "      <td>16.8</td>\n",
              "      <td>113</td>\n",
              "      <td>3.85</td>\n",
              "      <td>3.49</td>\n",
              "      <td>0.24</td>\n",
              "      <td>2.18</td>\n",
              "      <td>7.80</td>\n",
              "      <td>0.86</td>\n",
              "      <td>3.45</td>\n",
              "      <td>1480</td>\n",
              "    </tr>\n",
              "    <tr>\n",
              "      <th>4</th>\n",
              "      <td>1</td>\n",
              "      <td>13.24</td>\n",
              "      <td>2.59</td>\n",
              "      <td>2.87</td>\n",
              "      <td>21.0</td>\n",
              "      <td>118</td>\n",
              "      <td>2.80</td>\n",
              "      <td>2.69</td>\n",
              "      <td>0.39</td>\n",
              "      <td>1.82</td>\n",
              "      <td>4.32</td>\n",
              "      <td>1.04</td>\n",
              "      <td>2.93</td>\n",
              "      <td>735</td>\n",
              "    </tr>\n",
              "  </tbody>\n",
              "</table>\n",
              "</div>"
            ],
            "text/plain": [
              "   Wine  Alcohol  Malic.acid   Ash  ...  Color.int   Hue    OD  Proline\n",
              "0     1    14.23        1.71  2.43  ...       5.64  1.04  3.92     1065\n",
              "1     1    13.20        1.78  2.14  ...       4.38  1.05  3.40     1050\n",
              "2     1    13.16        2.36  2.67  ...       5.68  1.03  3.17     1185\n",
              "3     1    14.37        1.95  2.50  ...       7.80  0.86  3.45     1480\n",
              "4     1    13.24        2.59  2.87  ...       4.32  1.04  2.93      735\n",
              "\n",
              "[5 rows x 14 columns]"
            ]
          },
          "metadata": {
            "tags": []
          },
          "execution_count": 3
        }
      ]
    },
    {
      "cell_type": "code",
      "metadata": {
        "colab": {
          "base_uri": "https://localhost:8080/"
        },
        "id": "6ximsfjs1Z7a",
        "outputId": "0142f25c-1ef5-4bf6-f275-f93f826ed60e"
      },
      "source": [
        "# dataframe to numpy\r\n",
        "\r\n",
        "df_npy = data_df.to_numpy(dtype=np.float32)\r\n",
        "df_npy,type(df_npy)"
      ],
      "execution_count": 4,
      "outputs": [
        {
          "output_type": "execute_result",
          "data": {
            "text/plain": [
              "(array([[1.000e+00, 1.423e+01, 1.710e+00, ..., 1.040e+00, 3.920e+00,\n",
              "         1.065e+03],\n",
              "        [1.000e+00, 1.320e+01, 1.780e+00, ..., 1.050e+00, 3.400e+00,\n",
              "         1.050e+03],\n",
              "        [1.000e+00, 1.316e+01, 2.360e+00, ..., 1.030e+00, 3.170e+00,\n",
              "         1.185e+03],\n",
              "        ...,\n",
              "        [3.000e+00, 1.327e+01, 4.280e+00, ..., 5.900e-01, 1.560e+00,\n",
              "         8.350e+02],\n",
              "        [3.000e+00, 1.317e+01, 2.590e+00, ..., 6.000e-01, 1.620e+00,\n",
              "         8.400e+02],\n",
              "        [3.000e+00, 1.413e+01, 4.100e+00, ..., 6.100e-01, 1.600e+00,\n",
              "         5.600e+02]], dtype=float32), numpy.ndarray)"
            ]
          },
          "metadata": {
            "tags": []
          },
          "execution_count": 4
        }
      ]
    },
    {
      "cell_type": "code",
      "metadata": {
        "colab": {
          "base_uri": "https://localhost:8080/"
        },
        "id": "HNv9HnSc857U",
        "outputId": "bbd0e03a-2dd7-4b74-ca6a-178dac81d4f1"
      },
      "source": [
        "df_npy.shape"
      ],
      "execution_count": 5,
      "outputs": [
        {
          "output_type": "execute_result",
          "data": {
            "text/plain": [
              "(178, 14)"
            ]
          },
          "metadata": {
            "tags": []
          },
          "execution_count": 5
        }
      ]
    },
    {
      "cell_type": "markdown",
      "metadata": {
        "id": "DmRJ91Ot7zR7"
      },
      "source": [
        "### using Dataset and DataLoader classes"
      ]
    },
    {
      "cell_type": "code",
      "metadata": {
        "id": "5eIuh5iswnZu"
      },
      "source": [
        "# custom Dataset class\r\n",
        "\r\n",
        "class WineDataset(Dataset):\r\n",
        "\r\n",
        "    def __init__(self):\r\n",
        "        # Data loading\r\n",
        "        self.X = torch.from_numpy(df_npy[:,1:]) # all rows excluding colIndex = 0 \r\n",
        "        self.y = torch.from_numpy(df_npy[:,[0]]) # all rows of first column\r\n",
        "        self.n_samples = df_npy.shape[0]\r\n",
        "\r\n",
        "    def __getitem__(self,index):\r\n",
        "        # returns item at index e.g. dataset[index]\r\n",
        "        return self.X[index], self.y[index]\r\n",
        "\r\n",
        "    def __len__(self):\r\n",
        "        # returns length of dataset\r\n",
        "        return self.n_samples\r\n",
        "        "
      ],
      "execution_count": 6,
      "outputs": []
    },
    {
      "cell_type": "code",
      "metadata": {
        "colab": {
          "base_uri": "https://localhost:8080/"
        },
        "id": "w9MmaLZH9zho",
        "outputId": "736b49bf-89d8-4eb9-d524-641a0a127829"
      },
      "source": [
        "dataset = WineDataset()\r\n",
        "first_data = dataset[0]\r\n",
        "features,labels = first_data\r\n",
        "print(features,labels)"
      ],
      "execution_count": 7,
      "outputs": [
        {
          "output_type": "stream",
          "text": [
            "tensor([1.4230e+01, 1.7100e+00, 2.4300e+00, 1.5600e+01, 1.2700e+02, 2.8000e+00,\n",
            "        3.0600e+00, 2.8000e-01, 2.2900e+00, 5.6400e+00, 1.0400e+00, 3.9200e+00,\n",
            "        1.0650e+03]) tensor([1.])\n"
          ],
          "name": "stdout"
        }
      ]
    },
    {
      "cell_type": "code",
      "metadata": {
        "colab": {
          "base_uri": "https://localhost:8080/"
        },
        "id": "RIh1wF_Cyq8L",
        "outputId": "8f1a081f-f551-461f-80fd-74fff99743e2"
      },
      "source": [
        "dataloader = DataLoader(dataset=dataset,\r\n",
        "                        batch_size=4,\r\n",
        "                        shuffle=True,\r\n",
        "                        num_workers=2)\r\n",
        "\r\n",
        "dataiter = iter(dataloader)\r\n",
        "data = dataiter.next()\r\n",
        "features,labels = data\r\n",
        "print(features,labels)"
      ],
      "execution_count": 8,
      "outputs": [
        {
          "output_type": "stream",
          "text": [
            "tensor([[1.3560e+01, 1.7100e+00, 2.3100e+00, 1.6200e+01, 1.1700e+02, 3.1500e+00,\n",
            "         3.2900e+00, 3.4000e-01, 2.3400e+00, 6.1300e+00, 9.5000e-01, 3.3800e+00,\n",
            "         7.9500e+02],\n",
            "        [1.2840e+01, 2.9600e+00, 2.6100e+00, 2.4000e+01, 1.0100e+02, 2.3200e+00,\n",
            "         6.0000e-01, 5.3000e-01, 8.1000e-01, 4.9200e+00, 8.9000e-01, 2.1500e+00,\n",
            "         5.9000e+02],\n",
            "        [1.2250e+01, 3.8800e+00, 2.2000e+00, 1.8500e+01, 1.1200e+02, 1.3800e+00,\n",
            "         7.8000e-01, 2.9000e-01, 1.1400e+00, 8.2100e+00, 6.5000e-01, 2.0000e+00,\n",
            "         8.5500e+02],\n",
            "        [1.3070e+01, 1.5000e+00, 2.1000e+00, 1.5500e+01, 9.8000e+01, 2.4000e+00,\n",
            "         2.6400e+00, 2.8000e-01, 1.3700e+00, 3.7000e+00, 1.1800e+00, 2.6900e+00,\n",
            "         1.0200e+03]]) tensor([[1.],\n",
            "        [3.],\n",
            "        [3.],\n",
            "        [1.]])\n"
          ],
          "name": "stdout"
        }
      ]
    },
    {
      "cell_type": "code",
      "metadata": {
        "colab": {
          "base_uri": "https://localhost:8080/"
        },
        "id": "eNLHM0BH0gZV",
        "outputId": "a2b1e5c1-f4dd-4910-a48d-ce89323ab2ba"
      },
      "source": [
        "# training loop - dummy \r\n",
        "num_epochs = 2\r\n",
        "total_samples = len(dataset)\r\n",
        "n_iters = math.ceil(total_samples/4) # batch_size\r\n",
        "print(total_samples,n_iters)\r\n",
        "\r\n",
        "for epoch in range(num_epochs):\r\n",
        "    # loop over the dataloader - unpack the batch_index and the tuple\r\n",
        "    for i,(inputs,labels) in enumerate(dataloader):\r\n",
        "        '''\r\n",
        "        1.forward \r\n",
        "        2.backward \r\n",
        "        3.updates\r\n",
        "        '''\r\n",
        "        if (i+1)%5 == 0:\r\n",
        "            print(f'Epoch {epoch+1}/{num_epochs}, step {i+1}/{n_iters}, inputs {inputs.shape}')\r\n"
      ],
      "execution_count": 9,
      "outputs": [
        {
          "output_type": "stream",
          "text": [
            "178 45\n",
            "Epoch 1/2, step 5/45, inputs torch.Size([4, 13])\n",
            "Epoch 1/2, step 10/45, inputs torch.Size([4, 13])\n",
            "Epoch 1/2, step 15/45, inputs torch.Size([4, 13])\n",
            "Epoch 1/2, step 20/45, inputs torch.Size([4, 13])\n",
            "Epoch 1/2, step 25/45, inputs torch.Size([4, 13])\n",
            "Epoch 1/2, step 30/45, inputs torch.Size([4, 13])\n",
            "Epoch 1/2, step 35/45, inputs torch.Size([4, 13])\n",
            "Epoch 1/2, step 40/45, inputs torch.Size([4, 13])\n",
            "Epoch 1/2, step 45/45, inputs torch.Size([2, 13])\n",
            "Epoch 2/2, step 5/45, inputs torch.Size([4, 13])\n",
            "Epoch 2/2, step 10/45, inputs torch.Size([4, 13])\n",
            "Epoch 2/2, step 15/45, inputs torch.Size([4, 13])\n",
            "Epoch 2/2, step 20/45, inputs torch.Size([4, 13])\n",
            "Epoch 2/2, step 25/45, inputs torch.Size([4, 13])\n",
            "Epoch 2/2, step 30/45, inputs torch.Size([4, 13])\n",
            "Epoch 2/2, step 35/45, inputs torch.Size([4, 13])\n",
            "Epoch 2/2, step 40/45, inputs torch.Size([4, 13])\n",
            "Epoch 2/2, step 45/45, inputs torch.Size([2, 13])\n"
          ],
          "name": "stdout"
        }
      ]
    },
    {
      "cell_type": "markdown",
      "metadata": {
        "id": "yc7tL5xq73tC"
      },
      "source": [
        "### using transforms "
      ]
    },
    {
      "cell_type": "code",
      "metadata": {
        "id": "9mDl1kR500KR",
        "colab": {
          "base_uri": "https://localhost:8080/",
          "height": 154
        },
        "outputId": "0d34f59f-49fc-44b7-97f1-c419d7388d82"
      },
      "source": [
        "'''\r\n",
        "transforms:\r\n",
        "\r\n",
        "on Images\r\n",
        "----------------- \r\n",
        "CenterCrop, Greyscale, Pad, RandomAffine\r\n",
        "RandomCrop, RandomHorizonalFlip, RandomRotation\r\n",
        "Resize, Scale\r\n",
        "\r\n",
        "on Tensors\r\n",
        "-----------------\r\n",
        "LinearTransformation,Normalize,RandomErasing\r\n",
        "\r\n",
        "Conversion\r\n",
        "-----------------\r\n",
        "ToPILImage: from tensor or ndarray\r\n",
        "ToTensor: from numpy.ndarray or PILImage\r\n",
        "\r\n",
        "Generic\r\n",
        "-----------------\r\n",
        "use Lambda\r\n",
        "\r\n",
        "Custom\r\n",
        "-----------------\r\n",
        "write own class\r\n",
        "\r\n",
        "compose multiple Transforms\r\n",
        "------------------------------\r\n",
        "composed = transforms.Compose([\r\n",
        "                    Rescale(256),\r\n",
        "                    RandomCrop(224)\r\n",
        "                    ])\r\n",
        "\r\n",
        "# Modify the CustomDataset class to take transform as input in the constructor  \r\n",
        "\r\n",
        "'''\r\n"
      ],
      "execution_count": 10,
      "outputs": [
        {
          "output_type": "execute_result",
          "data": {
            "application/vnd.google.colaboratory.intrinsic+json": {
              "type": "string"
            },
            "text/plain": [
              "'\\ntransforms:\\n\\non Images\\n----------------- \\nCenterCrop, Greyscale, Pad, RandomAffine\\nRandomCrop, RandomHorizonalFlip, RandomRotation\\nResize, Scale\\n\\non Tensors\\n-----------------\\nLinearTransformation,Normalize,RandomErasing\\n\\nConversion\\n-----------------\\nToPILImage: from tensor or ndarray\\nToTensor: from numpy.ndarray or PILImage\\n\\nGeneric\\n-----------------\\nuse Lambda\\n\\nCustom\\n-----------------\\nwrite own class\\n\\ncompose multiple Transforms\\n------------------------------\\ncomposed = transforms.Compose([\\n                    Rescale(256),\\n                    RandomCrop(224)\\n                    ])\\n\\n# Modify the CustomDataset class to take transform as input in the constructor  \\n\\n'"
            ]
          },
          "metadata": {
            "tags": []
          },
          "execution_count": 10
        }
      ]
    },
    {
      "cell_type": "code",
      "metadata": {
        "id": "OdXaTeE45iC5"
      },
      "source": [
        "class WineDataset(Dataset):\r\n",
        "\r\n",
        "    def __init__(self,transform=None):\r\n",
        "        # Data loading - note we don't convert to tensor here\r\n",
        "        self.X = df_npy[:,1:]\r\n",
        "        self.y = df_npy[:,[0]]\r\n",
        "        self.n_samples = df_npy.shape[0]\r\n",
        "        self.transform = transform\r\n",
        "\r\n",
        "    def __getitem__(self,index):\r\n",
        "        # returns item at index e.g. dataset[index]\r\n",
        "        sample = self.X[index], self.y[index]\r\n",
        "\r\n",
        "        if self.transform:\r\n",
        "            sample = self.transform(sample)\r\n",
        "\r\n",
        "        return sample\r\n",
        "\r\n",
        "    def __len__(self):\r\n",
        "        # returns length of dataset\r\n",
        "        return self.n_samples\r\n",
        "\r\n",
        "\r\n",
        "# custom transform classes\r\n",
        "\r\n",
        "class ToTensor:\r\n",
        "    def __call__(self,sample):\r\n",
        "        inputs,targets = sample\r\n",
        "        return torch.from_numpy(inputs),torch.from_numpy(targets)\r\n",
        "\r\n",
        "class MulTransform:\r\n",
        "    def __init__(self,factor):\r\n",
        "        self.factor = factor\r\n",
        "\r\n",
        "    def __call__(self,sample):\r\n",
        "        inputs,targets = sample\r\n",
        "        inputs *= self.factor\r\n",
        "        return inputs,targets\r\n",
        "                "
      ],
      "execution_count": 11,
      "outputs": []
    },
    {
      "cell_type": "code",
      "metadata": {
        "colab": {
          "base_uri": "https://localhost:8080/"
        },
        "id": "FhD7G2Gz60Op",
        "outputId": "ce0f973e-e7fb-4db7-f5f6-84bdc11133da"
      },
      "source": [
        "# multiple transforms: transforms.Compose([...])\r\n",
        "\r\n",
        "composed = torchvision.transforms.Compose([ToTensor(),MulTransform(2)])\r\n",
        "\r\n",
        "dataset = WineDataset(transform=composed)\r\n",
        "\r\n",
        "first_data = dataset[0]\r\n",
        "features,labels = first_data\r\n",
        "print(type(features),type(labels))"
      ],
      "execution_count": 12,
      "outputs": [
        {
          "output_type": "stream",
          "text": [
            "<class 'torch.Tensor'> <class 'torch.Tensor'>\n"
          ],
          "name": "stdout"
        }
      ]
    },
    {
      "cell_type": "code",
      "metadata": {
        "id": "ssbIAaCE7uw-",
        "colab": {
          "base_uri": "https://localhost:8080/"
        },
        "outputId": "9f705015-958a-4196-a4c6-77ad3d62c052"
      },
      "source": [
        "# crossentropy loss\r\n",
        "\r\n",
        "def cross_entropy(actual,predicted):\r\n",
        "    loss = -np.sum(actual*np.log(predicted))\r\n",
        "    return loss\r\n",
        "\r\n",
        "# actual labels must be one-hot encoded\r\n",
        "Y_actual = np.array([1,0,0])\r\n",
        "\r\n",
        "Y_pred_good = np.array([0.7,0.2,0.1])\r\n",
        "Y_pred_bad = np.array([0.3,0.3,0.4])\r\n",
        "\r\n",
        "print(cross_entropy(Y_actual,Y_pred_good))\r\n",
        "print(cross_entropy(Y_actual,Y_pred_bad))"
      ],
      "execution_count": 13,
      "outputs": [
        {
          "output_type": "stream",
          "text": [
            "0.35667494393873245\n",
            "1.2039728043259361\n"
          ],
          "name": "stdout"
        }
      ]
    },
    {
      "cell_type": "code",
      "metadata": {
        "colab": {
          "base_uri": "https://localhost:8080/"
        },
        "id": "ZJvb9a7nVZMx",
        "outputId": "274dceb9-0f27-4cb2-f854-74d186f1d89f"
      },
      "source": [
        "'''\r\n",
        "nn.CrossEntropyLoss()\r\n",
        "--------------------------\r\n",
        "- no softmax in last layer needed as it itself applies softmax\r\n",
        "- Y_actual has class labels and NOT one-hot encodings\r\n",
        "- Y_pred has raw scores and NOT softmax outputs\r\n",
        "\r\n",
        "'''\r\n",
        "\r\n",
        "loss = nn.CrossEntropyLoss()\r\n",
        "\r\n",
        "Y_actual = torch.tensor([2,0,1])\r\n",
        "\r\n",
        "# shape = n_samples * n_classes = 3x3\r\n",
        "Y_pred_good = torch.tensor([[2.0, 1.0, 3.1],\r\n",
        "                            [2.3, 0.1, 0.9],\r\n",
        "                            [1.2, 4.6, 1.2]])\r\n",
        "Y_pred_bad = torch.tensor([[0.5, 2.0, 0.3],\r\n",
        "                           [0.1, 2.3, 4.3],\r\n",
        "                           [3.4, 0.9, 3.2]])\r\n",
        "\r\n",
        "l1 = loss(Y_pred_good,Y_actual)\r\n",
        "l2 = loss(Y_pred_bad,Y_actual)\r\n",
        "\r\n",
        "print('L1 = '+str(l1.item()))\r\n",
        "print('L2 = '+str(l2.item()))\r\n",
        "\r\n",
        "_,predictions1 = torch.max(Y_pred_good,1)\r\n",
        "_,predictions2 = torch.max(Y_pred_bad,1)\r\n",
        "\r\n",
        "print(predictions1)\r\n",
        "print(predictions2)"
      ],
      "execution_count": 16,
      "outputs": [
        {
          "output_type": "stream",
          "text": [
            "L1 = 0.24847181141376495\n",
            "L2 = 3.17431640625\n",
            "tensor([2, 0, 1])\n",
            "tensor([1, 2, 0])\n"
          ],
          "name": "stdout"
        }
      ]
    },
    {
      "cell_type": "code",
      "metadata": {
        "id": "zjAddZQgt46I"
      },
      "source": [
        "'''\r\n",
        "Binary classification - use sigmoid output and use nn.BCELoss()\r\n",
        "\r\n",
        "Multiclass classification - use nn.CrossEntropyLoss() [it already constitues softmax]\r\n",
        "\r\n",
        "'''"
      ],
      "execution_count": null,
      "outputs": []
    },
    {
      "cell_type": "code",
      "metadata": {
        "id": "GCI876CUYs8L"
      },
      "source": [
        "# Multiclass classification - Model class\r\n",
        "\r\n",
        "class Net(nn.Module):\r\n",
        "    def __init__(self,input_size,hidden_size):\r\n",
        "        super(NeuralNet,self).__init__()\r\n",
        "        self.linear1 = nn.Linear(input_size,hidden_size)\r\n",
        "        self.relu = nn.ReLU()\r\n",
        "        self.linear2 = nn.Linear(hidden_size,1)\r\n",
        "        self.sigmoid = nn.Sigmoid()\r\n",
        "\r\n",
        "    def forward(self,x):\r\n",
        "        x1 = self.linear1(x)\r\n",
        "        x1 = self.relu(x1)\r\n",
        "        x2 = self.linear2(x1)\r\n",
        "        x2 = self.sigmoid(x2)\r\n",
        "        return x1,x2"
      ],
      "execution_count": 17,
      "outputs": []
    },
    {
      "cell_type": "markdown",
      "metadata": {
        "id": "UxYbn44rw_GW"
      },
      "source": [
        "### CNN practical - MNIST (obvious choice for noobs :P )"
      ]
    },
    {
      "cell_type": "code",
      "metadata": {
        "id": "droffPgrw5F1"
      },
      "source": [
        "import os\r\n",
        "import math\r\n",
        "import numpy as np\r\n",
        "import pandas as pd\r\n",
        "import matplotlib.pyplot as plt\r\n",
        "\r\n",
        "import torch\r\n",
        "import torch.nn as nn\r\n",
        "import torchvision\r\n",
        "import torchvision.transforms as transforms\r\n",
        "from torch.utils.data import Dataset,DataLoader"
      ],
      "execution_count": 6,
      "outputs": []
    },
    {
      "cell_type": "code",
      "metadata": {
        "colab": {
          "base_uri": "https://localhost:8080/"
        },
        "id": "pCc4aKl-xe6U",
        "outputId": "c6b423a9-e2cf-4a0d-ff85-c06191f87002"
      },
      "source": [
        "# device config\r\n",
        "device = None\r\n",
        "if torch.cuda.is_available():\r\n",
        "    device = torch.device('cuda')\r\n",
        "else:\r\n",
        "    device = torch.device('cpu')\r\n",
        "\r\n",
        "device"
      ],
      "execution_count": 3,
      "outputs": [
        {
          "output_type": "execute_result",
          "data": {
            "text/plain": [
              "device(type='cuda')"
            ]
          },
          "metadata": {
            "tags": []
          },
          "execution_count": 3
        }
      ]
    },
    {
      "cell_type": "code",
      "metadata": {
        "id": "eHl5AFPKx0tO"
      },
      "source": [
        "# hyperparameters\r\n",
        "input_size = 784 # 28x28\r\n",
        "hidden_size = 100\r\n",
        "num_classes = 10\r\n",
        "num_epochs = 50\r\n",
        "batch_size = 100\r\n",
        "learning_rate = 0.01"
      ],
      "execution_count": 4,
      "outputs": []
    },
    {
      "cell_type": "code",
      "metadata": {
        "colab": {
          "base_uri": "https://localhost:8080/",
          "height": 384,
          "referenced_widgets": [
            "5d00e599096d41d3b9bf089d20016253",
            "86da1f647eef4383bcd097885440bcdf",
            "a7ae03d6a8ec4883be74bb87deca0f9a",
            "8fc4fa80ee6d407790955e00e7e2b978",
            "c4fc69724cc54cfaaa0b49d674f3772d",
            "8a9c389db7f4490ea48abd5d0dae8d68",
            "b453a6f49a2244f7a7191d2b2e59b548",
            "c7f7a0916979458d8a3fd0c70d8120f2",
            "088b50f2c9314a08a557f633c6a7297f",
            "2dcdf4f0a64241a2993a4e13482c7d61",
            "d2e6255496274555a48f43751ba57d9e",
            "2b97bb1ba8e84acf9bdc77e8e266ffd6",
            "cbeb0d259d0442d084503ae5752d900c",
            "3b6926c6085442b3b88ac55936b43302",
            "c6b4d0673ee34632b62defe75acc661d",
            "ed32e6abb74444c4ae900d7425141e23",
            "28ef063b70f3434a87f820b53a655f52",
            "b15b904ac3de49c3bbe1214e18d7ec64",
            "3695e395eb50422789a6de406ec35107",
            "f19c8f15f6124534a748c7395d624339",
            "a62da30c15a44518b7ef208a8895944e",
            "8d2867e348f047668970bd895855e27b",
            "18860ec0f0574203a2baf1634554bc09",
            "8d61e10845de42f8b29571a11949925f",
            "159cc339942c4f7689d9fb96f65eca98",
            "2741079a99e64e43b5036f62cbece090",
            "fd302621561249e4b2c6019c5496932b",
            "2af98620fb784a24b7e7a4a0a5d22762",
            "bfda8b7eadfb4cfca6ad7ec1333b84e9",
            "25ddd874dc4e47aa86dd19a7b7314cf4",
            "461c5f20353841a3ad2a12f0ef550ab6",
            "43462ccd4d414e4f8b491ebdc434e52f"
          ]
        },
        "id": "Wz_iJ5LryFhX",
        "outputId": "be76155d-1c5c-49a1-d2b5-3e841f9d927f"
      },
      "source": [
        "# MNIST\r\n",
        "train_dataset = torchvision.datasets.MNIST(root='./data',train=True,\r\n",
        "                                           transform=transforms.ToTensor(),\r\n",
        "                                           download=True)\r\n",
        "\r\n",
        "test_dataset = torchvision.datasets.MNIST(root='./data',train=False,\r\n",
        "                                          transform=transforms.ToTensor())"
      ],
      "execution_count": 5,
      "outputs": [
        {
          "output_type": "stream",
          "text": [
            "Downloading http://yann.lecun.com/exdb/mnist/train-images-idx3-ubyte.gz to ./data/MNIST/raw/train-images-idx3-ubyte.gz\n"
          ],
          "name": "stdout"
        },
        {
          "output_type": "display_data",
          "data": {
            "application/vnd.jupyter.widget-view+json": {
              "model_id": "5d00e599096d41d3b9bf089d20016253",
              "version_minor": 0,
              "version_major": 2
            },
            "text/plain": [
              "HBox(children=(FloatProgress(value=1.0, bar_style='info', max=1.0), HTML(value='')))"
            ]
          },
          "metadata": {
            "tags": []
          }
        },
        {
          "output_type": "stream",
          "text": [
            "Extracting ./data/MNIST/raw/train-images-idx3-ubyte.gz to ./data/MNIST/raw\n",
            "Downloading http://yann.lecun.com/exdb/mnist/train-labels-idx1-ubyte.gz to ./data/MNIST/raw/train-labels-idx1-ubyte.gz\n"
          ],
          "name": "stdout"
        },
        {
          "output_type": "display_data",
          "data": {
            "application/vnd.jupyter.widget-view+json": {
              "model_id": "088b50f2c9314a08a557f633c6a7297f",
              "version_minor": 0,
              "version_major": 2
            },
            "text/plain": [
              "HBox(children=(FloatProgress(value=1.0, bar_style='info', max=1.0), HTML(value='')))"
            ]
          },
          "metadata": {
            "tags": []
          }
        },
        {
          "output_type": "stream",
          "text": [
            "Extracting ./data/MNIST/raw/train-labels-idx1-ubyte.gz to ./data/MNIST/raw\n",
            "Downloading http://yann.lecun.com/exdb/mnist/t10k-images-idx3-ubyte.gz to ./data/MNIST/raw/t10k-images-idx3-ubyte.gz\n",
            "\n"
          ],
          "name": "stdout"
        },
        {
          "output_type": "display_data",
          "data": {
            "application/vnd.jupyter.widget-view+json": {
              "model_id": "28ef063b70f3434a87f820b53a655f52",
              "version_minor": 0,
              "version_major": 2
            },
            "text/plain": [
              "HBox(children=(FloatProgress(value=1.0, bar_style='info', max=1.0), HTML(value='')))"
            ]
          },
          "metadata": {
            "tags": []
          }
        },
        {
          "output_type": "stream",
          "text": [
            "Extracting ./data/MNIST/raw/t10k-images-idx3-ubyte.gz to ./data/MNIST/raw\n",
            "Downloading http://yann.lecun.com/exdb/mnist/t10k-labels-idx1-ubyte.gz to ./data/MNIST/raw/t10k-labels-idx1-ubyte.gz\n"
          ],
          "name": "stdout"
        },
        {
          "output_type": "display_data",
          "data": {
            "application/vnd.jupyter.widget-view+json": {
              "model_id": "159cc339942c4f7689d9fb96f65eca98",
              "version_minor": 0,
              "version_major": 2
            },
            "text/plain": [
              "HBox(children=(FloatProgress(value=1.0, bar_style='info', max=1.0), HTML(value='')))"
            ]
          },
          "metadata": {
            "tags": []
          }
        },
        {
          "output_type": "stream",
          "text": [
            "Extracting ./data/MNIST/raw/t10k-labels-idx1-ubyte.gz to ./data/MNIST/raw\n",
            "Processing...\n",
            "Done!\n"
          ],
          "name": "stdout"
        },
        {
          "output_type": "stream",
          "text": [
            "/usr/local/lib/python3.7/dist-packages/torchvision/datasets/mnist.py:480: UserWarning: The given NumPy array is not writeable, and PyTorch does not support non-writeable tensors. This means you can write to the underlying (supposedly non-writeable) NumPy array using the tensor. You may want to copy the array to protect its data or make it writeable before converting it to a tensor. This type of warning will be suppressed for the rest of this program. (Triggered internally at  /pytorch/torch/csrc/utils/tensor_numpy.cpp:141.)\n",
            "  return torch.from_numpy(parsed.astype(m[2], copy=False)).view(*s)\n"
          ],
          "name": "stderr"
        }
      ]
    },
    {
      "cell_type": "code",
      "metadata": {
        "colab": {
          "base_uri": "https://localhost:8080/"
        },
        "id": "epgqZo1tyrB5",
        "outputId": "4eddec36-b46a-4686-abb4-598ac6e0d0a2"
      },
      "source": [
        "# DataLoader\r\n",
        "train_loader = DataLoader(dataset=train_dataset,\r\n",
        "                          batch_size=batch_size,\r\n",
        "                          shuffle=True)\r\n",
        "\r\n",
        "test_loader = DataLoader(dataset=test_dataset,\r\n",
        "                         batch_size=batch_size,\r\n",
        "                         shuffle=False)\r\n",
        "\r\n",
        "examples = iter(train_loader)\r\n",
        "samples,labels = examples.next()\r\n",
        "print(samples.shape,labels.shape) \r\n",
        "# 100 is for batch_size, 1 is for color channel, 28x28 is dimension of image"
      ],
      "execution_count": 7,
      "outputs": [
        {
          "output_type": "stream",
          "text": [
            "torch.Size([100, 1, 28, 28]) torch.Size([100])\n"
          ],
          "name": "stdout"
        }
      ]
    },
    {
      "cell_type": "code",
      "metadata": {
        "id": "BThgCaCQ0HYX"
      },
      "source": [
        "# model class\r\n",
        "class NeuralNet(nn.Module):\r\n",
        "    def __init__(self,input_size,hidden_size,num_classes):\r\n",
        "        super(NeuralNet,self).__init__()\r\n",
        "        self.linear1 = nn.Linear(input_size,hidden_size)\r\n",
        "        self.relu = nn.ReLU()\r\n",
        "        self.linear2 =  nn.Linear(hidden_size,num_classes)\r\n",
        "\r\n",
        "    def forward(self,x):\r\n",
        "        x1 = self.linear1(x)\r\n",
        "        x1 = self.relu(x1)\r\n",
        "        x2 = self.linear2(x1)\r\n",
        "        return x2 # no softmax as nn.CrossEntropyLoss() will put it "
      ],
      "execution_count": 18,
      "outputs": []
    },
    {
      "cell_type": "code",
      "metadata": {
        "id": "OHcMj1K_0UrU"
      },
      "source": [
        "# defining model\r\n",
        "model = NeuralNet(input_size,hidden_size,num_classes)\r\n",
        "model=model.to(device)\r\n",
        "\r\n",
        "# loss and optimizer\r\n",
        "criterion = nn.CrossEntropyLoss()\r\n",
        "optimizer = torch.optim.Adam(model.parameters(),lr=learning_rate)"
      ],
      "execution_count": 19,
      "outputs": []
    },
    {
      "cell_type": "code",
      "metadata": {
        "colab": {
          "base_uri": "https://localhost:8080/"
        },
        "id": "Vdw9_b390Up4",
        "outputId": "6a2c7a21-6106-4c02-8ed2-87255e9ae401"
      },
      "source": [
        "# training loop\r\n",
        "n_total_steps = len(train_loader) # total nos of training samples\r\n",
        "for epoch in range(num_epochs):\r\n",
        "    for ii,(images,labels) in enumerate(train_loader):\r\n",
        "        # reshape images - need to convert (100,1,28,28) to (100,28*28)\r\n",
        "        images = images.reshape(-1,28*28).to(device)\r\n",
        "        labels = labels.to(device) # pushing tensor to gpu if present\r\n",
        "\r\n",
        "        # forward \r\n",
        "        outputs = model(images)\r\n",
        "        loss = criterion(outputs,labels)\r\n",
        "\r\n",
        "        # backward\r\n",
        "        loss.backward()\r\n",
        "\r\n",
        "        # update\r\n",
        "        optimizer.step()\r\n",
        "        optimizer.zero_grad()\r\n",
        "\r\n",
        "        if (ii+1)%100 == 0:\r\n",
        "            print(f'epoch {epoch+1}/{num_epochs}, step {ii+1}/{n_total_steps},loss = {loss.item()}')\r\n",
        "\r\n"
      ],
      "execution_count": 20,
      "outputs": [
        {
          "output_type": "stream",
          "text": [
            "epoch 1/50, step 100/600,loss = 0.3077969551086426\n",
            "epoch 1/50, step 200/600,loss = 0.1612159162759781\n",
            "epoch 1/50, step 300/600,loss = 0.1899344027042389\n",
            "epoch 1/50, step 400/600,loss = 0.07646738737821579\n",
            "epoch 1/50, step 500/600,loss = 0.08276554942131042\n",
            "epoch 1/50, step 600/600,loss = 0.08208953589200974\n",
            "epoch 2/50, step 100/600,loss = 0.09048011153936386\n",
            "epoch 2/50, step 200/600,loss = 0.051778536289930344\n",
            "epoch 2/50, step 300/600,loss = 0.06051763519644737\n",
            "epoch 2/50, step 400/600,loss = 0.18942807614803314\n",
            "epoch 2/50, step 500/600,loss = 0.12039586156606674\n",
            "epoch 2/50, step 600/600,loss = 0.21245518326759338\n",
            "epoch 3/50, step 100/600,loss = 0.07504168152809143\n",
            "epoch 3/50, step 200/600,loss = 0.13803039491176605\n",
            "epoch 3/50, step 300/600,loss = 0.049999576061964035\n",
            "epoch 3/50, step 400/600,loss = 0.031740155071020126\n",
            "epoch 3/50, step 500/600,loss = 0.06308349221944809\n",
            "epoch 3/50, step 600/600,loss = 0.178181454539299\n",
            "epoch 4/50, step 100/600,loss = 0.04735518991947174\n",
            "epoch 4/50, step 200/600,loss = 0.0677213966846466\n",
            "epoch 4/50, step 300/600,loss = 0.10521741956472397\n",
            "epoch 4/50, step 400/600,loss = 0.13042588531970978\n",
            "epoch 4/50, step 500/600,loss = 0.025615908205509186\n",
            "epoch 4/50, step 600/600,loss = 0.06608374416828156\n",
            "epoch 5/50, step 100/600,loss = 0.07505219429731369\n",
            "epoch 5/50, step 200/600,loss = 0.14626021683216095\n",
            "epoch 5/50, step 300/600,loss = 0.08423907309770584\n",
            "epoch 5/50, step 400/600,loss = 0.048692718148231506\n",
            "epoch 5/50, step 500/600,loss = 0.049029603600502014\n",
            "epoch 5/50, step 600/600,loss = 0.20544658601284027\n",
            "epoch 6/50, step 100/600,loss = 0.01156112551689148\n",
            "epoch 6/50, step 200/600,loss = 0.04439423233270645\n",
            "epoch 6/50, step 300/600,loss = 0.10727783292531967\n",
            "epoch 6/50, step 400/600,loss = 0.11849475651979446\n",
            "epoch 6/50, step 500/600,loss = 0.04847065359354019\n",
            "epoch 6/50, step 600/600,loss = 0.10517758131027222\n",
            "epoch 7/50, step 100/600,loss = 0.02423560433089733\n",
            "epoch 7/50, step 200/600,loss = 0.05943378806114197\n",
            "epoch 7/50, step 300/600,loss = 0.007146479096263647\n",
            "epoch 7/50, step 400/600,loss = 0.08037519454956055\n",
            "epoch 7/50, step 500/600,loss = 0.06830723583698273\n",
            "epoch 7/50, step 600/600,loss = 0.05310223996639252\n",
            "epoch 8/50, step 100/600,loss = 0.005879669915884733\n",
            "epoch 8/50, step 200/600,loss = 0.008823135867714882\n",
            "epoch 8/50, step 300/600,loss = 0.049643248319625854\n",
            "epoch 8/50, step 400/600,loss = 0.005586730781942606\n",
            "epoch 8/50, step 500/600,loss = 0.013603615574538708\n",
            "epoch 8/50, step 600/600,loss = 0.028488343581557274\n",
            "epoch 9/50, step 100/600,loss = 0.07934354990720749\n",
            "epoch 9/50, step 200/600,loss = 0.0054407077841460705\n",
            "epoch 9/50, step 300/600,loss = 0.019531669095158577\n",
            "epoch 9/50, step 400/600,loss = 0.11644139140844345\n",
            "epoch 9/50, step 500/600,loss = 0.010211775079369545\n",
            "epoch 9/50, step 600/600,loss = 0.19496767222881317\n",
            "epoch 10/50, step 100/600,loss = 0.0762660875916481\n",
            "epoch 10/50, step 200/600,loss = 0.03661108389496803\n",
            "epoch 10/50, step 300/600,loss = 0.05605457350611687\n",
            "epoch 10/50, step 400/600,loss = 0.03548505902290344\n",
            "epoch 10/50, step 500/600,loss = 0.0076052527874708176\n",
            "epoch 10/50, step 600/600,loss = 0.0914425253868103\n",
            "epoch 11/50, step 100/600,loss = 0.0023566398303955793\n",
            "epoch 11/50, step 200/600,loss = 0.07980745285749435\n",
            "epoch 11/50, step 300/600,loss = 0.042634569108486176\n",
            "epoch 11/50, step 400/600,loss = 0.004372697323560715\n",
            "epoch 11/50, step 500/600,loss = 0.09976965934038162\n",
            "epoch 11/50, step 600/600,loss = 0.07644610852003098\n",
            "epoch 12/50, step 100/600,loss = 0.00017219100845977664\n",
            "epoch 12/50, step 200/600,loss = 0.018770631402730942\n",
            "epoch 12/50, step 300/600,loss = 0.016331439837813377\n",
            "epoch 12/50, step 400/600,loss = 0.08429820835590363\n",
            "epoch 12/50, step 500/600,loss = 0.06603104621171951\n",
            "epoch 12/50, step 600/600,loss = 0.10851232707500458\n",
            "epoch 13/50, step 100/600,loss = 0.001424429239705205\n",
            "epoch 13/50, step 200/600,loss = 0.05420724302530289\n",
            "epoch 13/50, step 300/600,loss = 0.02146531082689762\n",
            "epoch 13/50, step 400/600,loss = 0.053392186760902405\n",
            "epoch 13/50, step 500/600,loss = 0.05514858290553093\n",
            "epoch 13/50, step 600/600,loss = 0.0033929774072021246\n",
            "epoch 14/50, step 100/600,loss = 0.016998732462525368\n",
            "epoch 14/50, step 200/600,loss = 0.0535065159201622\n",
            "epoch 14/50, step 300/600,loss = 0.0071028657257556915\n",
            "epoch 14/50, step 400/600,loss = 0.00015286171401385218\n",
            "epoch 14/50, step 500/600,loss = 0.0013312597293406725\n",
            "epoch 14/50, step 600/600,loss = 0.002308661350980401\n",
            "epoch 15/50, step 100/600,loss = 0.022092120721936226\n",
            "epoch 15/50, step 200/600,loss = 4.7040208301041275e-05\n",
            "epoch 15/50, step 300/600,loss = 0.012725036591291428\n",
            "epoch 15/50, step 400/600,loss = 0.0008816666668280959\n",
            "epoch 15/50, step 500/600,loss = 0.017844293266534805\n",
            "epoch 15/50, step 600/600,loss = 0.029402989894151688\n",
            "epoch 16/50, step 100/600,loss = 0.05475412309169769\n",
            "epoch 16/50, step 200/600,loss = 0.016799481585621834\n",
            "epoch 16/50, step 300/600,loss = 0.09082402288913727\n",
            "epoch 16/50, step 400/600,loss = 0.015530501492321491\n",
            "epoch 16/50, step 500/600,loss = 0.016686372458934784\n",
            "epoch 16/50, step 600/600,loss = 0.19811119139194489\n",
            "epoch 17/50, step 100/600,loss = 2.3185044483398087e-05\n",
            "epoch 17/50, step 200/600,loss = 0.003974671475589275\n",
            "epoch 17/50, step 300/600,loss = 0.22897273302078247\n",
            "epoch 17/50, step 400/600,loss = 0.009915986098349094\n",
            "epoch 17/50, step 500/600,loss = 0.07452087104320526\n",
            "epoch 17/50, step 600/600,loss = 0.0010501231299713254\n",
            "epoch 18/50, step 100/600,loss = 0.0014531633350998163\n",
            "epoch 18/50, step 200/600,loss = 0.03013964183628559\n",
            "epoch 18/50, step 300/600,loss = 0.0013230659533292055\n",
            "epoch 18/50, step 400/600,loss = 0.06929413974285126\n",
            "epoch 18/50, step 500/600,loss = 0.1650787740945816\n",
            "epoch 18/50, step 600/600,loss = 0.07671985030174255\n",
            "epoch 19/50, step 100/600,loss = 0.00010745100735221058\n",
            "epoch 19/50, step 200/600,loss = 0.02504262700676918\n",
            "epoch 19/50, step 300/600,loss = 0.12457211315631866\n",
            "epoch 19/50, step 400/600,loss = 0.003980276640504599\n",
            "epoch 19/50, step 500/600,loss = 0.047663744539022446\n",
            "epoch 19/50, step 600/600,loss = 0.0015329959569498897\n",
            "epoch 20/50, step 100/600,loss = 0.0066149611957371235\n",
            "epoch 20/50, step 200/600,loss = 0.0035227518528699875\n",
            "epoch 20/50, step 300/600,loss = 0.027131862938404083\n",
            "epoch 20/50, step 400/600,loss = 0.09875110536813736\n",
            "epoch 20/50, step 500/600,loss = 0.013609379529953003\n",
            "epoch 20/50, step 600/600,loss = 0.014636311680078506\n",
            "epoch 21/50, step 100/600,loss = 0.0005073010106571019\n",
            "epoch 21/50, step 200/600,loss = 0.05502499267458916\n",
            "epoch 21/50, step 300/600,loss = 0.0003053180407732725\n",
            "epoch 21/50, step 400/600,loss = 0.001903510419651866\n",
            "epoch 21/50, step 500/600,loss = 0.0002086724853143096\n",
            "epoch 21/50, step 600/600,loss = 0.17894485592842102\n",
            "epoch 22/50, step 100/600,loss = 0.04344866797327995\n",
            "epoch 22/50, step 200/600,loss = 0.05703168362379074\n",
            "epoch 22/50, step 300/600,loss = 0.11486808955669403\n",
            "epoch 22/50, step 400/600,loss = 0.04816409572958946\n",
            "epoch 22/50, step 500/600,loss = 0.06391606479883194\n",
            "epoch 22/50, step 600/600,loss = 0.0010436569573357701\n",
            "epoch 23/50, step 100/600,loss = 0.07870811969041824\n",
            "epoch 23/50, step 200/600,loss = 0.00015164889919105917\n",
            "epoch 23/50, step 300/600,loss = 0.05378974974155426\n",
            "epoch 23/50, step 400/600,loss = 0.029373090714216232\n",
            "epoch 23/50, step 500/600,loss = 2.2184862245921977e-05\n",
            "epoch 23/50, step 600/600,loss = 0.0335053913295269\n",
            "epoch 24/50, step 100/600,loss = 0.10121092945337296\n",
            "epoch 24/50, step 200/600,loss = 4.578540028887801e-06\n",
            "epoch 24/50, step 300/600,loss = 0.0003619284834712744\n",
            "epoch 24/50, step 400/600,loss = 0.033640146255493164\n",
            "epoch 24/50, step 500/600,loss = 0.047026004642248154\n",
            "epoch 24/50, step 600/600,loss = 0.013416452333331108\n",
            "epoch 25/50, step 100/600,loss = 0.047173887491226196\n",
            "epoch 25/50, step 200/600,loss = 0.0005109103512950242\n",
            "epoch 25/50, step 300/600,loss = 0.005200013052672148\n",
            "epoch 25/50, step 400/600,loss = 0.005395727697759867\n",
            "epoch 25/50, step 500/600,loss = 0.003173460252583027\n",
            "epoch 25/50, step 600/600,loss = 0.12319561094045639\n",
            "epoch 26/50, step 100/600,loss = 8.487542686452798e-07\n",
            "epoch 26/50, step 200/600,loss = 0.04963809624314308\n",
            "epoch 26/50, step 300/600,loss = 1.5377970896679471e-07\n",
            "epoch 26/50, step 400/600,loss = 0.23772138357162476\n",
            "epoch 26/50, step 500/600,loss = 0.0008451269823126495\n",
            "epoch 26/50, step 600/600,loss = 6.93101465003565e-05\n",
            "epoch 27/50, step 100/600,loss = 0.0005227176006883383\n",
            "epoch 27/50, step 200/600,loss = 0.001640190021134913\n",
            "epoch 27/50, step 300/600,loss = 0.0611727274954319\n",
            "epoch 27/50, step 400/600,loss = 0.06907270103693008\n",
            "epoch 27/50, step 500/600,loss = 0.08609171211719513\n",
            "epoch 27/50, step 600/600,loss = 0.0034375214017927647\n",
            "epoch 28/50, step 100/600,loss = 9.301913814852014e-05\n",
            "epoch 28/50, step 200/600,loss = 0.012935577891767025\n",
            "epoch 28/50, step 300/600,loss = 0.15297923982143402\n",
            "epoch 28/50, step 400/600,loss = 0.00019945618987549096\n",
            "epoch 28/50, step 500/600,loss = 0.13551098108291626\n",
            "epoch 28/50, step 600/600,loss = 1.1181355148437433e-06\n",
            "epoch 29/50, step 100/600,loss = 0.12768283486366272\n",
            "epoch 29/50, step 200/600,loss = 0.01292258221656084\n",
            "epoch 29/50, step 300/600,loss = 0.001401942572556436\n",
            "epoch 29/50, step 400/600,loss = 0.0029960281681269407\n",
            "epoch 29/50, step 500/600,loss = 0.06323160976171494\n",
            "epoch 29/50, step 600/600,loss = 0.08241976797580719\n",
            "epoch 30/50, step 100/600,loss = 5.3513431339524686e-05\n",
            "epoch 30/50, step 200/600,loss = 0.0039393906481564045\n",
            "epoch 30/50, step 300/600,loss = 2.2195470137376105e-06\n",
            "epoch 30/50, step 400/600,loss = 2.454751665936783e-05\n",
            "epoch 30/50, step 500/600,loss = 4.768325823079067e-07\n",
            "epoch 30/50, step 600/600,loss = 0.21627427637577057\n",
            "epoch 31/50, step 100/600,loss = 0.004746494814753532\n",
            "epoch 31/50, step 200/600,loss = 0.0038637924008071423\n",
            "epoch 31/50, step 300/600,loss = 0.011286544613540173\n",
            "epoch 31/50, step 400/600,loss = 0.0007952158339321613\n",
            "epoch 31/50, step 500/600,loss = 0.007834423333406448\n",
            "epoch 31/50, step 600/600,loss = 1.7391241726727458e-06\n",
            "epoch 32/50, step 100/600,loss = 0.015471607446670532\n",
            "epoch 32/50, step 200/600,loss = 0.0420035645365715\n",
            "epoch 32/50, step 300/600,loss = 2.0096318621654063e-05\n",
            "epoch 32/50, step 400/600,loss = 0.0008811734733171761\n",
            "epoch 32/50, step 500/600,loss = 0.001039818860590458\n",
            "epoch 32/50, step 600/600,loss = 8.964218523033196e-07\n",
            "epoch 33/50, step 100/600,loss = 2.2302397155726794e-06\n",
            "epoch 33/50, step 200/600,loss = 0.0010321669979020953\n",
            "epoch 33/50, step 300/600,loss = 9.367922029923648e-05\n",
            "epoch 33/50, step 400/600,loss = 1.3088326795696048e-06\n",
            "epoch 33/50, step 500/600,loss = 0.00020519254030659795\n",
            "epoch 33/50, step 600/600,loss = 1.7796946849557571e-06\n",
            "epoch 34/50, step 100/600,loss = 1.5448977137566544e-06\n",
            "epoch 34/50, step 200/600,loss = 0.0009727757424116135\n",
            "epoch 34/50, step 300/600,loss = 4.612764769262867e-06\n",
            "epoch 34/50, step 400/600,loss = 0.09677992016077042\n",
            "epoch 34/50, step 500/600,loss = 0.058338381350040436\n",
            "epoch 34/50, step 600/600,loss = 0.1076841950416565\n",
            "epoch 35/50, step 100/600,loss = 1.5497194638669498e-08\n",
            "epoch 35/50, step 200/600,loss = 0.0037863326724618673\n",
            "epoch 35/50, step 300/600,loss = 0.00014082396228332072\n",
            "epoch 35/50, step 400/600,loss = 1.87617933988804e-06\n",
            "epoch 35/50, step 500/600,loss = 6.627899711020291e-05\n",
            "epoch 35/50, step 600/600,loss = 2.753710077740834e-07\n",
            "epoch 36/50, step 100/600,loss = 0.12859705090522766\n",
            "epoch 36/50, step 200/600,loss = 0.004146081395447254\n",
            "epoch 36/50, step 300/600,loss = 7.10847380105406e-05\n",
            "epoch 36/50, step 400/600,loss = 0.0003764730936381966\n",
            "epoch 36/50, step 500/600,loss = 0.0013516487088054419\n",
            "epoch 36/50, step 600/600,loss = 0.016744721680879593\n",
            "epoch 37/50, step 100/600,loss = 1.5283558241208084e-05\n",
            "epoch 37/50, step 200/600,loss = 8.010587180251605e-07\n",
            "epoch 37/50, step 300/600,loss = 6.989588655414991e-06\n",
            "epoch 37/50, step 400/600,loss = 2.6821970777746174e-07\n",
            "epoch 37/50, step 500/600,loss = 0.005331028718501329\n",
            "epoch 37/50, step 600/600,loss = 4.100755290892266e-07\n",
            "epoch 38/50, step 100/600,loss = 0.026867423206567764\n",
            "epoch 38/50, step 200/600,loss = 0.1423693597316742\n",
            "epoch 38/50, step 300/600,loss = 0.06033432483673096\n",
            "epoch 38/50, step 400/600,loss = 0.024622110649943352\n",
            "epoch 38/50, step 500/600,loss = 0.03905614838004112\n",
            "epoch 38/50, step 600/600,loss = 3.0045799576328136e-05\n",
            "epoch 39/50, step 100/600,loss = 1.6212378284308215e-07\n",
            "epoch 39/50, step 200/600,loss = 0.025514954701066017\n",
            "epoch 39/50, step 300/600,loss = 0.001505281892605126\n",
            "epoch 39/50, step 400/600,loss = 0.0001350631791865453\n",
            "epoch 39/50, step 500/600,loss = 0.0738082155585289\n",
            "epoch 39/50, step 600/600,loss = 0.10429303348064423\n",
            "epoch 40/50, step 100/600,loss = 0.009535719640552998\n",
            "epoch 40/50, step 200/600,loss = 8.721544145373628e-05\n",
            "epoch 40/50, step 300/600,loss = 0.0015451376093551517\n",
            "epoch 40/50, step 400/600,loss = 0.0481584370136261\n",
            "epoch 40/50, step 500/600,loss = 0.06636356562376022\n",
            "epoch 40/50, step 600/600,loss = 6.914119410339481e-08\n",
            "epoch 41/50, step 100/600,loss = 0.00022780467406846583\n",
            "epoch 41/50, step 200/600,loss = 0.00012273943866603076\n",
            "epoch 41/50, step 300/600,loss = 0.06344223767518997\n",
            "epoch 41/50, step 400/600,loss = 0.001338092377409339\n",
            "epoch 41/50, step 500/600,loss = 1.9882170818164013e-05\n",
            "epoch 41/50, step 600/600,loss = 0.0870356485247612\n",
            "epoch 42/50, step 100/600,loss = 0.1453125774860382\n",
            "epoch 42/50, step 200/600,loss = 0.002231961814686656\n",
            "epoch 42/50, step 300/600,loss = 0.03674672171473503\n",
            "epoch 42/50, step 400/600,loss = 0.0004600198590196669\n",
            "epoch 42/50, step 500/600,loss = 0.11533431708812714\n",
            "epoch 42/50, step 600/600,loss = 0.002404626691713929\n",
            "epoch 43/50, step 100/600,loss = 1.0668921959222644e-06\n",
            "epoch 43/50, step 200/600,loss = 0.012796030379831791\n",
            "epoch 43/50, step 300/600,loss = 8.745180093683302e-05\n",
            "epoch 43/50, step 400/600,loss = 4.42586861026939e-06\n",
            "epoch 43/50, step 500/600,loss = 8.344648527724985e-09\n",
            "epoch 43/50, step 600/600,loss = 0.0782037004828453\n",
            "epoch 44/50, step 100/600,loss = 1.3617747754324228e-05\n",
            "epoch 44/50, step 200/600,loss = 0.00015547906514257193\n",
            "epoch 44/50, step 300/600,loss = 4.219919844672404e-07\n",
            "epoch 44/50, step 400/600,loss = 8.809183782432228e-07\n",
            "epoch 44/50, step 500/600,loss = 3.3792848626035266e-06\n",
            "epoch 44/50, step 600/600,loss = 0.03033110313117504\n",
            "epoch 45/50, step 100/600,loss = 0.040774401277303696\n",
            "epoch 45/50, step 200/600,loss = 0.1822991520166397\n",
            "epoch 45/50, step 300/600,loss = 8.344648527724985e-09\n",
            "epoch 45/50, step 400/600,loss = 0.09117024391889572\n",
            "epoch 45/50, step 500/600,loss = 0.09626397490501404\n",
            "epoch 45/50, step 600/600,loss = 0.03199032321572304\n",
            "epoch 46/50, step 100/600,loss = 2.4613822461105883e-05\n",
            "epoch 46/50, step 200/600,loss = 3.865211056108819e-06\n",
            "epoch 46/50, step 300/600,loss = 0.09303560107946396\n",
            "epoch 46/50, step 400/600,loss = 0.004256822168827057\n",
            "epoch 46/50, step 500/600,loss = 0.010546266101300716\n",
            "epoch 46/50, step 600/600,loss = 0.0002680175530258566\n",
            "epoch 47/50, step 100/600,loss = 0.0013463046634569764\n",
            "epoch 47/50, step 200/600,loss = 2.7418108672350172e-08\n",
            "epoch 47/50, step 300/600,loss = 0.001280178315937519\n",
            "epoch 47/50, step 400/600,loss = 5.006779701943742e-08\n",
            "epoch 47/50, step 500/600,loss = 4.279536653939431e-07\n",
            "epoch 47/50, step 600/600,loss = 0.0977790579199791\n",
            "epoch 48/50, step 100/600,loss = 0.000159952585818246\n",
            "epoch 48/50, step 200/600,loss = 0.014540720731019974\n",
            "epoch 48/50, step 300/600,loss = 0.10883542895317078\n",
            "epoch 48/50, step 400/600,loss = 0.03491097688674927\n",
            "epoch 48/50, step 500/600,loss = 2.384185515680315e-09\n",
            "epoch 48/50, step 600/600,loss = 0.06444451212882996\n",
            "epoch 49/50, step 100/600,loss = 0.0012842040741816163\n",
            "epoch 49/50, step 200/600,loss = 0.0937904566526413\n",
            "epoch 49/50, step 300/600,loss = 0.08433753997087479\n",
            "epoch 49/50, step 400/600,loss = 1.5656203686376102e-05\n",
            "epoch 49/50, step 500/600,loss = 0.06430281698703766\n",
            "epoch 49/50, step 600/600,loss = 0.107312873005867\n",
            "epoch 50/50, step 100/600,loss = 0.00012060576409567147\n",
            "epoch 50/50, step 200/600,loss = 0.05877546966075897\n",
            "epoch 50/50, step 300/600,loss = 0.0\n",
            "epoch 50/50, step 400/600,loss = 0.167575404047966\n",
            "epoch 50/50, step 500/600,loss = 0.001788746565580368\n",
            "epoch 50/50, step 600/600,loss = 4.891153821517946e-06\n"
          ],
          "name": "stdout"
        }
      ]
    },
    {
      "cell_type": "code",
      "metadata": {
        "colab": {
          "base_uri": "https://localhost:8080/"
        },
        "id": "ckC8EewQ4WdJ",
        "outputId": "19cf6cea-03cb-4766-b956-9b7410d99dc1"
      },
      "source": [
        "# testing loop\r\n",
        "with torch.no_grad():\r\n",
        "    n_correct = 0\r\n",
        "    n_samples = 0\r\n",
        "    for images,labels in test_loader:\r\n",
        "        images = images.reshape(-1,28*28).to(device)\r\n",
        "        labels = labels.to(device)\r\n",
        "        \r\n",
        "        outputs = model(images)\r\n",
        "\r\n",
        "        # value,index\r\n",
        "        _, preds = torch.max(outputs,1)\r\n",
        "        n_samples += labels.shape[0]\r\n",
        "        n_correct += (preds == labels).sum().item()\r\n",
        "\r\n",
        "    accuracy = n_correct/float(n_samples)\r\n",
        "    print(f'Accuracy on test data = {accuracy:.4f}')"
      ],
      "execution_count": 21,
      "outputs": [
        {
          "output_type": "stream",
          "text": [
            "Accuracy on test data = 0.9708\n"
          ],
          "name": "stdout"
        }
      ]
    },
    {
      "cell_type": "code",
      "metadata": {
        "id": "opFtkC2N54Ox"
      },
      "source": [
        ""
      ],
      "execution_count": null,
      "outputs": []
    }
  ]
}