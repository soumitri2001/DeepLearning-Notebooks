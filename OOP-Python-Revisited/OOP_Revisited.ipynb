{
  "nbformat": 4,
  "nbformat_minor": 0,
  "metadata": {
    "colab": {
      "name": "OOP_Python.ipynb",
      "provenance": []
    },
    "kernelspec": {
      "name": "python3",
      "display_name": "Python 3"
    }
  },
  "cells": [
    {
      "cell_type": "code",
      "metadata": {
        "id": "uq3WgmwzjslU"
      },
      "source": [
        "# Object oriented in python - classes, objects ,\r\n",
        "# inheritance, abstract classes, etc"
      ],
      "execution_count": 16,
      "outputs": []
    },
    {
      "cell_type": "code",
      "metadata": {
        "id": "UXUMJlfhsrN4"
      },
      "source": [
        "import math"
      ],
      "execution_count": 17,
      "outputs": []
    },
    {
      "cell_type": "code",
      "metadata": {
        "id": "K86Yyv46j5Dh"
      },
      "source": [
        "class Complex:\r\n",
        "\r\n",
        "  cname = 'Complex' # class variable\r\n",
        "\r\n",
        "  def __init__(self,x,y): \r\n",
        "    # x and y are the instance variables for the class\r\n",
        "    self.x=x\r\n",
        "    self.y=y\r\n",
        "\r\n",
        "  def magnitude(self):\r\n",
        "    return math.sqrt(self.x**2 + self.y**2)\r\n",
        "\r\n",
        "  def display(self):\r\n",
        "    print(str(self.x)+'+'+str(self.y)+'i')\r\n",
        "\r\n",
        "  def add(self,c):\r\n",
        "    self.x = self.x + c.x\r\n",
        "    self.y = self.y + c.y\r\n",
        "\r\n",
        "  @classmethod # class methods - belonging to class\r\n",
        "  def datatype(cls):\r\n",
        "    return cls.cname\r\n",
        "\r\n",
        "  # static methods - nothing to do with instances/class , extra fxn\r\n",
        "  @staticmethod\r\n",
        "  def summary(): # no parameter is passes\r\n",
        "    print('Complex class has two instance variables x and y')\r\n"
      ],
      "execution_count": 26,
      "outputs": []
    },
    {
      "cell_type": "code",
      "metadata": {
        "colab": {
          "base_uri": "https://localhost:8080/"
        },
        "id": "NxWS2-6Vj5E-",
        "outputId": "e2022fc4-a08f-40a8-cc9d-cdaffd9b974e"
      },
      "source": [
        "c1=Complex(4,5)\r\n",
        "c2=Complex(3,8)\r\n",
        "\r\n",
        "Complex.display(c1) # passing object into method as parameter\r\n",
        "c2.display() # using object itself to call method"
      ],
      "execution_count": 27,
      "outputs": [
        {
          "output_type": "stream",
          "text": [
            "4+5i\n",
            "3+8i\n"
          ],
          "name": "stdout"
        }
      ]
    },
    {
      "cell_type": "code",
      "metadata": {
        "colab": {
          "base_uri": "https://localhost:8080/"
        },
        "id": "PNHFwmCXrCWQ",
        "outputId": "a60c9686-0a3e-46c0-a547-41ee761d6e51"
      },
      "source": [
        "c1.add(c2)\r\n",
        "c1.display()\r\n",
        "\r\n",
        "print(Complex.datatype())\r\n",
        "Complex.summary()"
      ],
      "execution_count": 28,
      "outputs": [
        {
          "output_type": "stream",
          "text": [
            "7+13i\n",
            "Complex\n",
            "Complex class has two instance variables x and y\n"
          ],
          "name": "stdout"
        }
      ]
    },
    {
      "cell_type": "code",
      "metadata": {
        "id": "XvCEnTjv0LaZ"
      },
      "source": [
        "# class inside a class\r\n",
        "\r\n",
        "class Student:\r\n",
        "\r\n",
        "  def __init__(self,name,roll):\r\n",
        "    self.name=name\r\n",
        "    self.roll=roll\r\n",
        "    self.lap = self.Laptop() # Laptop object associated with Student class\r\n",
        "\r\n",
        "  def show(self):\r\n",
        "    print(self.name , self.roll)\r\n",
        "    self.lap.show();\r\n",
        "\r\n",
        "  # inner class - object of inner class can be used as attribute of outer class\r\n",
        "  class Laptop:\r\n",
        "\r\n",
        "    def __init__(self):\r\n",
        "      self.brand = 'HP'\r\n",
        "      self.cpu = 'i7'\r\n",
        "\r\n",
        "    def show(self):\r\n",
        "      print(self.brand, self.cpu)\r\n"
      ],
      "execution_count": 36,
      "outputs": []
    },
    {
      "cell_type": "code",
      "metadata": {
        "colab": {
          "base_uri": "https://localhost:8080/"
        },
        "id": "CCqkVgEDN-lL",
        "outputId": "ae216b99-acba-4bd7-8baa-635a19d13b0c"
      },
      "source": [
        "s1 = Student('Rohit',45)\r\n",
        "s2 = Student('Pawan',52)\r\n",
        "\r\n",
        "lap1 = s1.lap\r\n",
        "lap2 = s2.lap\r\n",
        "\r\n",
        "print(id(lap1))\r\n",
        "print(id(lap2))\r\n",
        "\r\n",
        "s1.show()\r\n",
        "s2.show()"
      ],
      "execution_count": 37,
      "outputs": [
        {
          "output_type": "stream",
          "text": [
            "140710142751912\n",
            "140710142750848\n",
            "Rohit 45\n",
            "HP i7\n",
            "Pawan 52\n",
            "HP i7\n"
          ],
          "name": "stdout"
        }
      ]
    },
    {
      "cell_type": "code",
      "metadata": {
        "id": "cQ18BfGzOTm9"
      },
      "source": [
        "# Inheritance \r\n",
        "\r\n",
        "class Base:\r\n",
        "\r\n",
        "  def func1(self):\r\n",
        "    print('func1 of Base class')\r\n",
        "\r\n",
        "  def func2(self):\r\n",
        "    print('func2 of Base class')"
      ],
      "execution_count": 54,
      "outputs": []
    },
    {
      "cell_type": "code",
      "metadata": {
        "id": "rvkPGk2rQGq8"
      },
      "source": [
        "class Derv(Base):\r\n",
        "\r\n",
        "  def func3(self):\r\n",
        "    print('func3 of Derv class')\r\n",
        "\r\n",
        "  def func4(self):\r\n",
        "    print('func4 of Derv class')"
      ],
      "execution_count": 55,
      "outputs": []
    },
    {
      "cell_type": "code",
      "metadata": {
        "id": "FE1fuJs7XmHB"
      },
      "source": [
        "class MultDerv(Derv,Base): # order of declaring the inherited classes - MRO\r\n",
        "\r\n",
        "  # inherits both Base and Derv classes\r\n",
        "\r\n",
        "  def func5(self):\r\n",
        "    print('func5 of multderv class')"
      ],
      "execution_count": 56,
      "outputs": []
    },
    {
      "cell_type": "code",
      "metadata": {
        "colab": {
          "base_uri": "https://localhost:8080/"
        },
        "id": "YcghPVmuQGsX",
        "outputId": "1d2f7eb1-ac9d-4052-9fbb-4373455fca2b"
      },
      "source": [
        "b = Base()\r\n",
        "\r\n",
        "b.func1()\r\n",
        "b.func2()"
      ],
      "execution_count": 57,
      "outputs": [
        {
          "output_type": "stream",
          "text": [
            "func1 of Base class\n",
            "func2 of Base class\n"
          ],
          "name": "stdout"
        }
      ]
    },
    {
      "cell_type": "code",
      "metadata": {
        "colab": {
          "base_uri": "https://localhost:8080/"
        },
        "id": "-yJ7es9zQGnB",
        "outputId": "82e4ea69-fdfe-4e32-8684-3e218ff611b5"
      },
      "source": [
        "d = Derv()\r\n",
        "\r\n",
        "d.func2()\r\n",
        "d.func4()"
      ],
      "execution_count": 59,
      "outputs": [
        {
          "output_type": "stream",
          "text": [
            "func2 of Base class\n",
            "func4 of Derv class\n"
          ],
          "name": "stdout"
        }
      ]
    },
    {
      "cell_type": "code",
      "metadata": {
        "colab": {
          "base_uri": "https://localhost:8080/"
        },
        "id": "SQesblLERYVC",
        "outputId": "55bb9220-3636-4be5-9653-2610902abd2e"
      },
      "source": [
        "md = MultDerv()\r\n",
        "\r\n",
        "md.func1()\r\n",
        "md.func3()\r\n",
        "md.func5()"
      ],
      "execution_count": 60,
      "outputs": [
        {
          "output_type": "stream",
          "text": [
            "func1 of Base class\n",
            "func3 of Derv class\n",
            "func5 of multderv class\n"
          ],
          "name": "stdout"
        }
      ]
    },
    {
      "cell_type": "code",
      "metadata": {
        "id": "vYOjnhHbYVD8"
      },
      "source": [
        "# constructors in inheritance -> super()\r\n",
        "\r\n",
        "'''\r\n",
        "if there is no constructor in Derv class,when object of Derv class is created\r\n",
        "it will call __init__() of Base class,\r\n",
        "But if constructor is defined for Derv that will be called.\r\n",
        "\r\n",
        "What if we need to invoke super class constructor also ??\r\n",
        "'''\r\n",
        "\r\n",
        "class Base:\r\n",
        "\r\n",
        "  def __init__(self):\r\n",
        "    print('base init')\r\n",
        "\r\n",
        "  def fxn1(self):\r\n",
        "    print('fxn1 base')\r\n",
        "\r\n",
        "\r\n",
        "class Derv(Base):\r\n",
        "\r\n",
        "  def __init__(self):\r\n",
        "    super().__init__() # invokes superclass i.e. Base class constructor\r\n",
        "    print('derv init')\r\n",
        "    \r\n",
        "  def fxn2(self):\r\n",
        "    print('fxn2 derv')\r\n"
      ],
      "execution_count": 61,
      "outputs": []
    },
    {
      "cell_type": "code",
      "metadata": {
        "colab": {
          "base_uri": "https://localhost:8080/"
        },
        "id": "FILuxGeRa_DI",
        "outputId": "16bf24f0-2662-4792-f370-7f5c9ad76a7c"
      },
      "source": [
        "ob = Base()\r\n",
        "ob.fxn1()\r\n",
        "\r\n",
        "print('\\n')\r\n",
        "\r\n",
        "ob = Derv()\r\n",
        "ob.fxn1()\r\n",
        "ob.fxn2()"
      ],
      "execution_count": 64,
      "outputs": [
        {
          "output_type": "stream",
          "text": [
            "base init\n",
            "fxn1 base\n",
            "\n",
            "\n",
            "base init\n",
            "derv init\n",
            "fxn1 base\n",
            "fxn2 derv\n"
          ],
          "name": "stdout"
        }
      ]
    },
    {
      "cell_type": "code",
      "metadata": {
        "id": "mGRG6HZgbE7X"
      },
      "source": [
        "'''\r\n",
        "MRO : Method Resolution Order\r\n",
        "- for a class inheriting from multiple classes, order or preference regarding\r\n",
        "  which super().__init__() to call is done from LEFT to RIGHT \r\n",
        "'''\r\n",
        "\r\n",
        "class Base2:\r\n",
        "  \r\n",
        "  def __init__(self):\r\n",
        "    print('base2 init')\r\n",
        "\r\n",
        "  def fxn1(self):\r\n",
        "    print('fxn1 Base2')\r\n",
        "  \r\n",
        "class Third(Base,Base2): # here ordering is Base > Base2\r\n",
        "\r\n",
        "  def __init__(self):\r\n",
        "    super().__init__()    # Base init will be called and NOT Base2 init\r\n",
        "    print('third init')\r\n",
        "\r\n",
        "  def fxn4(self):\r\n",
        "    print('fxn4 third')"
      ],
      "execution_count": 70,
      "outputs": []
    },
    {
      "cell_type": "code",
      "metadata": {
        "colab": {
          "base_uri": "https://localhost:8080/"
        },
        "id": "ESRPZZkAbo7s",
        "outputId": "618720a0-cbd7-4288-d7a0-7502cfc59fb6"
      },
      "source": [
        "ob = Third()\r\n",
        "\r\n",
        "ob.fxn1() # here the method from Base class is called as order is Base > Base2\r\n",
        "ob.fxn4()"
      ],
      "execution_count": 73,
      "outputs": [
        {
          "output_type": "stream",
          "text": [
            "base init\n",
            "third init\n",
            "fxn1 base\n",
            "fxn4 third\n"
          ],
          "name": "stdout"
        }
      ]
    },
    {
      "cell_type": "code",
      "metadata": {
        "id": "nDBhJHbDcJXb"
      },
      "source": [
        "# Polymorphism\r\n",
        "'''\r\n",
        "- method overloading is NOT available in Python\r\n",
        "- method overriding is available, however\r\n",
        "'''\r\n",
        "\r\n",
        "class A:\r\n",
        "  \r\n",
        "  def show(self):\r\n",
        "    print('A show')\r\n",
        "\r\n",
        "class B(A):\r\n",
        "  \r\n",
        "  def show(self):\r\n",
        "    print('B show')"
      ],
      "execution_count": 78,
      "outputs": []
    },
    {
      "cell_type": "code",
      "metadata": {
        "colab": {
          "base_uri": "https://localhost:8080/"
        },
        "id": "hDc8qd4GiQ7c",
        "outputId": "17d642aa-def7-40be-f90f-157552fb8509"
      },
      "source": [
        "ob = B()\r\n",
        "\r\n",
        "ob.show() # B.show() if show() is present in B, else A.show() is called"
      ],
      "execution_count": 80,
      "outputs": [
        {
          "output_type": "stream",
          "text": [
            "B show\n"
          ],
          "name": "stdout"
        }
      ]
    },
    {
      "cell_type": "code",
      "metadata": {
        "id": "gZcm4gbCiVs8"
      },
      "source": [
        "# Abstract classes\r\n",
        "\r\n",
        "'''\r\n",
        "- python does not support abstract classes \r\n",
        "- but we can make it do so using the ABC module\r\n",
        "'''\r\n",
        "\r\n",
        "from abc import ABC, abstractmethod\r\n",
        "\r\n",
        "# Abstract method - a method without a body (using 'pass' keyword)\r\n",
        "# Abstract class - class having atleast one abstract method\r\n",
        "# - we cannot instantiate an abstract class\r\n",
        "# - abstract class is mainly required to fulfil OOP design pattern"
      ],
      "execution_count": 86,
      "outputs": []
    },
    {
      "cell_type": "code",
      "metadata": {
        "id": "-VE3PlfAjgvT"
      },
      "source": [
        "class Computer(ABC):\r\n",
        "  @abstractmethod\r\n",
        "  def process(self):\r\n",
        "    pass\r\n",
        "\r\n",
        "class Laptop(Computer):\r\n",
        "  def process(self):\r\n",
        "    print('laptop process')\r\n",
        "\r\n",
        "class Whiteboard(Computer):\r\n",
        "  def process(self):\r\n",
        "    print('writing')\r\n",
        "\r\n",
        "class Programmer:\r\n",
        "  def work(self,com):\r\n",
        "    print('debugging and lyadh')\r\n",
        "    com.process()"
      ],
      "execution_count": 96,
      "outputs": []
    },
    {
      "cell_type": "code",
      "metadata": {
        "colab": {
          "base_uri": "https://localhost:8080/"
        },
        "id": "4fkEYJwxkA6L",
        "outputId": "ae77fe45-1ddc-42bc-f267-2d2b6aa0b99c"
      },
      "source": [
        "com1 = Laptop()\r\n",
        "whtb = Whiteboard()\r\n",
        "prog1 = Programmer()\r\n",
        "\r\n",
        "prog1.work(com1)\r\n",
        "\r\n",
        "prog1.work(whtb)\r\n"
      ],
      "execution_count": 97,
      "outputs": [
        {
          "output_type": "stream",
          "text": [
            "debugging and lyadh\n",
            "laptop process\n",
            "debugging and lyadh\n",
            "writing\n"
          ],
          "name": "stdout"
        }
      ]
    },
    {
      "cell_type": "code",
      "metadata": {
        "id": "fp7mocPHkDpH"
      },
      "source": [
        ""
      ],
      "execution_count": null,
      "outputs": []
    }
  ]
}